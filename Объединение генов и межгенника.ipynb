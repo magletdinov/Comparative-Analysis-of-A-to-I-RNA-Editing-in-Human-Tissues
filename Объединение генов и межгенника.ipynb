{
 "cells": [
  {
   "cell_type": "code",
   "execution_count": 1,
   "id": "d653777a",
   "metadata": {},
   "outputs": [],
   "source": [
    "import pickle as pkl\n",
    "import numpy as np\n",
    "import pandas as pd"
   ]
  },
  {
   "cell_type": "code",
   "execution_count": 2,
   "id": "2e30f186",
   "metadata": {},
   "outputs": [],
   "source": [
    "path = '/home/matvey/Документы/Data_Analysis_in_Biology_and_Medicine/new_science/data'"
   ]
  },
  {
   "cell_type": "code",
   "execution_count": 9,
   "id": "7eba09cd",
   "metadata": {},
   "outputs": [],
   "source": [
    "def chroms_list() -> list:\n",
    "    \"\"\"Функция создает список реальных хромосом.\"\"\"\n",
    "    chroms = ['chr'+ str(i) for i in range(1,23)]\n",
    "    chroms.append('chrX')\n",
    "    chroms.append('chrY')\n",
    "    return chroms"
   ]
  },
  {
   "cell_type": "code",
   "execution_count": 10,
   "id": "c9aab21f",
   "metadata": {},
   "outputs": [],
   "source": [
    "with open(f'{path}/teor_sites_coordinats_in_genes.pickle, 'rb') as f:\n",
    "    genes = pkl.load(f)"
   ]
  },
  {
   "cell_type": "code",
   "execution_count": 11,
   "id": "b57f3560",
   "metadata": {},
   "outputs": [],
   "source": [
    "with open(f'{path}/teor_sites_coordinats_in_intergenic.pickle', 'rb') as f:\n",
    "    intergenes = pkl.load(f)"
   ]
  },
  {
   "cell_type": "code",
   "execution_count": 16,
   "id": "1506de0d",
   "metadata": {},
   "outputs": [],
   "source": [
    "with open(f'{path}/count_real_esites_by_chrom.pickle', 'rb') as f:\n",
    "    count_real_esites_by_chrom = pkl.load(f)"
   ]
  },
  {
   "cell_type": "code",
   "execution_count": 17,
   "id": "4660fa16",
   "metadata": {},
   "outputs": [
    {
     "data": {
      "text/plain": [
       "defaultdict(int,\n",
       "            {'chr1': 1188335,\n",
       "             'chr10': 577208,\n",
       "             'chr11': 568741,\n",
       "             'chr12': 703146,\n",
       "             'chr13': 230417,\n",
       "             'chr14': 427421,\n",
       "             'chr15': 454687,\n",
       "             'chr16': 628587,\n",
       "             'chr17': 767147,\n",
       "             'chr18': 204254,\n",
       "             'chr19': 944876,\n",
       "             'chr2': 856617,\n",
       "             'chr20': 322534,\n",
       "             'chr21': 134286,\n",
       "             'chr22': 331549,\n",
       "             'chr3': 714845,\n",
       "             'chr4': 473979,\n",
       "             'chr5': 549613,\n",
       "             'chr6': 551144,\n",
       "             'chr7': 722774,\n",
       "             'chr8': 452671,\n",
       "             'chr9': 499338,\n",
       "             'chrX': 308412,\n",
       "             'chrY': 25305})"
      ]
     },
     "execution_count": 17,
     "metadata": {},
     "output_type": "execute_result"
    }
   ],
   "source": [
    "count_real_esites_by_chrom"
   ]
  },
  {
   "cell_type": "code",
   "execution_count": 14,
   "id": "f45c91b3",
   "metadata": {},
   "outputs": [],
   "source": [
    "chr1 = np.random.choice(np.concatenate((genes['chr1'], intergenes['chr1'])), 1188335)"
   ]
  },
  {
   "cell_type": "code",
   "execution_count": 15,
   "id": "ab8b432b",
   "metadata": {},
   "outputs": [
    {
     "data": {
      "text/plain": [
       "array([ 34932263, 102852231,  49171180, ...,  50401601, 173796250,\n",
       "        87144051], dtype=int32)"
      ]
     },
     "execution_count": 15,
     "metadata": {},
     "output_type": "execute_result"
    }
   ],
   "source": [
    "chr1"
   ]
  },
  {
   "cell_type": "code",
   "execution_count": 19,
   "id": "db877524",
   "metadata": {},
   "outputs": [],
   "source": [
    "total_teor_esites = dict()\n",
    "for chrom in count_real_esites_by_chrom:\n",
    "    total_teor_esites[chrom] = np.concatenate((genes[chrom], intergenes[chrom]))"
   ]
  },
  {
   "cell_type": "code",
   "execution_count": 20,
   "id": "9b3c296e",
   "metadata": {
    "scrolled": true
   },
   "outputs": [
    {
     "data": {
      "text/plain": [
       "{'chr1': array([    11871,     11872,     11882, ..., 248946416, 248946417,\n",
       "        248946418], dtype=int32),\n",
       " 'chr10': array([ 57212197,  57212199,  57212200, ..., 100650440, 100650441,\n",
       "        100650442], dtype=int32),\n",
       " 'chr11': array([    75779,     75781,     75794, ..., 153376331, 153376332,\n",
       "        153376333], dtype=int32),\n",
       " 'chr12': array([    12313,     12316,     12317, ..., 114878209, 114878210,\n",
       "        114878211], dtype=int32),\n",
       " 'chr13': array([18174014, 18174015, 18174022, ..., 44123600, 44123601, 44123602],\n",
       "       dtype=int32),\n",
       " 'chr14': array([16057472, 16057478, 16057486, ..., 89179902, 89179906, 89179913],\n",
       "       dtype=int32),\n",
       " 'chr15': array([19878554, 19878562, 19878564, ..., 56717428, 56717429, 56717430],\n",
       "       dtype=int32),\n",
       " 'chr16': array([   11563,    11576,    11593, ..., 85584229, 85584233, 85584234],\n",
       "       dtype=int32),\n",
       " 'chr17': array([    64110,     64116,     64142, ..., 112377738, 112377740,\n",
       "        112377743], dtype=int32),\n",
       " 'chr18': array([   11102,    11112,    11123, ..., 34181609, 34181610, 34181611],\n",
       "       dtype=int32),\n",
       " 'chr19': array([    60963,     60965,     60970, ..., 120892917, 120892921,\n",
       "        120892922], dtype=int32),\n",
       " 'chr2': array([    38813,     38814,     38817, ..., 181100428, 181100429,\n",
       "        181100430], dtype=int32),\n",
       " 'chr20': array([   87249,    87251,    87254, ..., 47414662, 47414669, 47414670],\n",
       "       dtype=int32),\n",
       " 'chr21': array([ 5011802,  5011805,  5011812, ..., 26995091, 26995092, 26995093],\n",
       "       dtype=int32),\n",
       " 'chr22': array([10736170, 10736171, 10736174, ..., 43375764, 43375765, 43375766],\n",
       "       dtype=int32),\n",
       " 'chr3': array([    11749,     11760,     11766, ..., 119579246, 119579247,\n",
       "        119579248], dtype=int32),\n",
       " 'chr4': array([    49095,     49096,     49097, ..., 120109140, 120109141,\n",
       "        120109142], dtype=int32),\n",
       " 'chr5': array([    58197,     58200,     58206, ..., 144379458, 144379460,\n",
       "        144379461], dtype=int32),\n",
       " 'chr6': array([    95123,     95126,     95128, ..., 151202299, 151202300,\n",
       "        151249536], dtype=int32),\n",
       " 'chr7': array([    12705,     12706,     12707, ..., 148196473, 148196474,\n",
       "        148196475], dtype=int32),\n",
       " 'chr8': array([    64092,     64109,     64115, ..., 105903378, 105903379,\n",
       "        105903380], dtype=int32),\n",
       " 'chr9': array([    12135,     12138,     12139, ..., 108447062, 108447063,\n",
       "        108447064], dtype=int32),\n",
       " 'chrX': array([   253744,    253745,    253750, ..., 143638653, 143638655,\n",
       "        143638658], dtype=int32),\n",
       " 'chrY': array([  253744,   253745,   253750, ..., 24559036, 24559038, 24559041],\n",
       "       dtype=int32)}"
      ]
     },
     "execution_count": 20,
     "metadata": {},
     "output_type": "execute_result"
    }
   ],
   "source": [
    "total_teor_esites"
   ]
  },
  {
   "cell_type": "markdown",
   "id": "da1b8cf9",
   "metadata": {},
   "source": [
    "Код ниже был выполнен из отдельного текстового файла"
   ]
  },
  {
   "cell_type": "markdown",
   "id": "575a078d",
   "metadata": {},
   "source": [
    "with open(f'{path}/teor_sites_coordinats_total.pickle', 'wb') as f:\n",
    "    pkl.dump(total_teor_esites, f)"
   ]
  },
  {
   "cell_type": "code",
   "execution_count": null,
   "id": "cb0aed78",
   "metadata": {},
   "outputs": [],
   "source": []
  },
  {
   "cell_type": "code",
   "execution_count": 2,
   "id": "cbd2607b",
   "metadata": {},
   "outputs": [
    {
     "data": {
      "text/plain": [
       "{0: [], 1: []}"
      ]
     },
     "execution_count": 2,
     "metadata": {},
     "output_type": "execute_result"
    }
   ],
   "source": [
    "{number: [] for number in range(2)}"
   ]
  },
  {
   "cell_type": "code",
   "execution_count": 3,
   "id": "b7f6ec01-a294-48e2-9870-6a09e25d759a",
   "metadata": {},
   "outputs": [
    {
     "data": {
      "text/plain": [
       "[0, 1]"
      ]
     },
     "execution_count": 3,
     "metadata": {},
     "output_type": "execute_result"
    }
   ],
   "source": [
    "[number for number in range(2)]"
   ]
  },
  {
   "cell_type": "code",
   "execution_count": 14,
   "id": "44ee90fd-a8e3-4b74-a045-f0083006dda9",
   "metadata": {},
   "outputs": [
    {
     "data": {
      "text/html": [
       "<div>\n",
       "<style scoped>\n",
       "    .dataframe tbody tr th:only-of-type {\n",
       "        vertical-align: middle;\n",
       "    }\n",
       "\n",
       "    .dataframe tbody tr th {\n",
       "        vertical-align: top;\n",
       "    }\n",
       "\n",
       "    .dataframe thead th {\n",
       "        text-align: right;\n",
       "    }\n",
       "</style>\n",
       "<table border=\"1\" class=\"dataframe\">\n",
       "  <thead>\n",
       "    <tr style=\"text-align: right;\">\n",
       "      <th></th>\n",
       "      <th>Family</th>\n",
       "      <th>EditingSites</th>\n",
       "    </tr>\n",
       "  </thead>\n",
       "  <tbody>\n",
       "    <tr>\n",
       "      <th>0</th>\n",
       "      <td>(TAACCC)n</td>\n",
       "      <td>23</td>\n",
       "    </tr>\n",
       "    <tr>\n",
       "      <th>1</th>\n",
       "      <td>TAR1</td>\n",
       "      <td>153</td>\n",
       "    </tr>\n",
       "    <tr>\n",
       "      <th>2</th>\n",
       "      <td>L1MC5a</td>\n",
       "      <td>22113</td>\n",
       "    </tr>\n",
       "    <tr>\n",
       "      <th>3</th>\n",
       "      <td>Plat_L3</td>\n",
       "      <td>2037</td>\n",
       "    </tr>\n",
       "    <tr>\n",
       "      <th>4</th>\n",
       "      <td>MIR</td>\n",
       "      <td>119003</td>\n",
       "    </tr>\n",
       "    <tr>\n",
       "      <th>...</th>\n",
       "      <td>...</td>\n",
       "      <td>...</td>\n",
       "    </tr>\n",
       "    <tr>\n",
       "      <th>6922</th>\n",
       "      <td>(CTATCATT)n</td>\n",
       "      <td>1</td>\n",
       "    </tr>\n",
       "    <tr>\n",
       "      <th>6923</th>\n",
       "      <td>(AACTCATG)n</td>\n",
       "      <td>2</td>\n",
       "    </tr>\n",
       "    <tr>\n",
       "      <th>6924</th>\n",
       "      <td>(TTAGGG)n</td>\n",
       "      <td>1</td>\n",
       "    </tr>\n",
       "    <tr>\n",
       "      <th>6925</th>\n",
       "      <td>(TTAAGGT)n</td>\n",
       "      <td>1</td>\n",
       "    </tr>\n",
       "    <tr>\n",
       "      <th>6926</th>\n",
       "      <td>Repeat-free</td>\n",
       "      <td>6491410</td>\n",
       "    </tr>\n",
       "  </tbody>\n",
       "</table>\n",
       "<p>6927 rows × 2 columns</p>\n",
       "</div>"
      ],
      "text/plain": [
       "           Family  EditingSites\n",
       "0       (TAACCC)n            23\n",
       "1            TAR1           153\n",
       "2          L1MC5a         22113\n",
       "3         Plat_L3          2037\n",
       "4             MIR        119003\n",
       "...           ...           ...\n",
       "6922  (CTATCATT)n             1\n",
       "6923  (AACTCATG)n             2\n",
       "6924    (TTAGGG)n             1\n",
       "6925   (TTAAGGT)n             1\n",
       "6926  Repeat-free       6491410\n",
       "\n",
       "[6927 rows x 2 columns]"
      ]
     },
     "execution_count": 14,
     "metadata": {},
     "output_type": "execute_result"
    }
   ],
   "source": [
    "with open(f'{path}/subdata/0_generation.pkl', 'rb') as f:\n",
    "    a = pkl.load(f)\n",
    "pd.DataFrame(a)"
   ]
  },
  {
   "cell_type": "code",
   "execution_count": 15,
   "id": "a83f4b49-f8ec-4040-8bb9-d0ab09daab1c",
   "metadata": {},
   "outputs": [
    {
     "data": {
      "text/html": [
       "<div>\n",
       "<style scoped>\n",
       "    .dataframe tbody tr th:only-of-type {\n",
       "        vertical-align: middle;\n",
       "    }\n",
       "\n",
       "    .dataframe tbody tr th {\n",
       "        vertical-align: top;\n",
       "    }\n",
       "\n",
       "    .dataframe thead th {\n",
       "        text-align: right;\n",
       "    }\n",
       "</style>\n",
       "<table border=\"1\" class=\"dataframe\">\n",
       "  <thead>\n",
       "    <tr style=\"text-align: right;\">\n",
       "      <th></th>\n",
       "      <th>Family</th>\n",
       "      <th>EditingSites</th>\n",
       "    </tr>\n",
       "  </thead>\n",
       "  <tbody>\n",
       "    <tr>\n",
       "      <th>0</th>\n",
       "      <td>(TAACCC)n</td>\n",
       "      <td>23</td>\n",
       "    </tr>\n",
       "    <tr>\n",
       "      <th>1</th>\n",
       "      <td>TAR1</td>\n",
       "      <td>153</td>\n",
       "    </tr>\n",
       "    <tr>\n",
       "      <th>2</th>\n",
       "      <td>L1MC5a</td>\n",
       "      <td>22113</td>\n",
       "    </tr>\n",
       "    <tr>\n",
       "      <th>3</th>\n",
       "      <td>Plat_L3</td>\n",
       "      <td>2037</td>\n",
       "    </tr>\n",
       "    <tr>\n",
       "      <th>4</th>\n",
       "      <td>MIR</td>\n",
       "      <td>119003</td>\n",
       "    </tr>\n",
       "    <tr>\n",
       "      <th>...</th>\n",
       "      <td>...</td>\n",
       "      <td>...</td>\n",
       "    </tr>\n",
       "    <tr>\n",
       "      <th>6922</th>\n",
       "      <td>(CTATCATT)n</td>\n",
       "      <td>1</td>\n",
       "    </tr>\n",
       "    <tr>\n",
       "      <th>6923</th>\n",
       "      <td>(AACTCATG)n</td>\n",
       "      <td>2</td>\n",
       "    </tr>\n",
       "    <tr>\n",
       "      <th>6924</th>\n",
       "      <td>(TTAGGG)n</td>\n",
       "      <td>1</td>\n",
       "    </tr>\n",
       "    <tr>\n",
       "      <th>6925</th>\n",
       "      <td>(TTAAGGT)n</td>\n",
       "      <td>1</td>\n",
       "    </tr>\n",
       "    <tr>\n",
       "      <th>6926</th>\n",
       "      <td>Repeat-free</td>\n",
       "      <td>6491410</td>\n",
       "    </tr>\n",
       "  </tbody>\n",
       "</table>\n",
       "<p>6927 rows × 2 columns</p>\n",
       "</div>"
      ],
      "text/plain": [
       "           Family  EditingSites\n",
       "0       (TAACCC)n            23\n",
       "1            TAR1           153\n",
       "2          L1MC5a         22113\n",
       "3         Plat_L3          2037\n",
       "4             MIR        119003\n",
       "...           ...           ...\n",
       "6922  (CTATCATT)n             1\n",
       "6923  (AACTCATG)n             2\n",
       "6924    (TTAGGG)n             1\n",
       "6925   (TTAAGGT)n             1\n",
       "6926  Repeat-free       6491410\n",
       "\n",
       "[6927 rows x 2 columns]"
      ]
     },
     "execution_count": 15,
     "metadata": {},
     "output_type": "execute_result"
    }
   ],
   "source": [
    "with open(f'{path}/subdata/1_generation.pkl', 'rb') as f:\n",
    "    b = pkl.load(f)\n",
    "pd.DataFrame(b)"
   ]
  },
  {
   "cell_type": "code",
   "execution_count": 9,
   "id": "0f2d93de-ca3b-4585-8e60-fe3722befc45",
   "metadata": {},
   "outputs": [
    {
     "data": {
      "text/html": [
       "<div>\n",
       "<style scoped>\n",
       "    .dataframe tbody tr th:only-of-type {\n",
       "        vertical-align: middle;\n",
       "    }\n",
       "\n",
       "    .dataframe tbody tr th {\n",
       "        vertical-align: top;\n",
       "    }\n",
       "\n",
       "    .dataframe thead th {\n",
       "        text-align: right;\n",
       "    }\n",
       "</style>\n",
       "<table border=\"1\" class=\"dataframe\">\n",
       "  <thead>\n",
       "    <tr style=\"text-align: right;\">\n",
       "      <th></th>\n",
       "      <th>Family</th>\n",
       "      <th>EditingSites</th>\n",
       "    </tr>\n",
       "  </thead>\n",
       "  <tbody>\n",
       "    <tr>\n",
       "      <th>0</th>\n",
       "      <td>(TAACCC)n</td>\n",
       "      <td>25</td>\n",
       "    </tr>\n",
       "    <tr>\n",
       "      <th>1</th>\n",
       "      <td>TAR1</td>\n",
       "      <td>164</td>\n",
       "    </tr>\n",
       "    <tr>\n",
       "      <th>2</th>\n",
       "      <td>L1MC5a</td>\n",
       "      <td>22038</td>\n",
       "    </tr>\n",
       "    <tr>\n",
       "      <th>3</th>\n",
       "      <td>MER5B</td>\n",
       "      <td>11812</td>\n",
       "    </tr>\n",
       "    <tr>\n",
       "      <th>4</th>\n",
       "      <td>(TGCTCC)n</td>\n",
       "      <td>6</td>\n",
       "    </tr>\n",
       "    <tr>\n",
       "      <th>...</th>\n",
       "      <td>...</td>\n",
       "      <td>...</td>\n",
       "    </tr>\n",
       "    <tr>\n",
       "      <th>6925</th>\n",
       "      <td>(ACTTTAT)n</td>\n",
       "      <td>1</td>\n",
       "    </tr>\n",
       "    <tr>\n",
       "      <th>6926</th>\n",
       "      <td>(TAACCAA)n</td>\n",
       "      <td>1</td>\n",
       "    </tr>\n",
       "    <tr>\n",
       "      <th>6927</th>\n",
       "      <td>(GTTAGG)n</td>\n",
       "      <td>1</td>\n",
       "    </tr>\n",
       "    <tr>\n",
       "      <th>6928</th>\n",
       "      <td>(GGCACCT)n</td>\n",
       "      <td>1</td>\n",
       "    </tr>\n",
       "    <tr>\n",
       "      <th>6929</th>\n",
       "      <td>Repeat-free</td>\n",
       "      <td>6492328</td>\n",
       "    </tr>\n",
       "  </tbody>\n",
       "</table>\n",
       "<p>6930 rows × 2 columns</p>\n",
       "</div>"
      ],
      "text/plain": [
       "           Family  EditingSites\n",
       "0       (TAACCC)n            25\n",
       "1            TAR1           164\n",
       "2          L1MC5a         22038\n",
       "3           MER5B         11812\n",
       "4       (TGCTCC)n             6\n",
       "...           ...           ...\n",
       "6925   (ACTTTAT)n             1\n",
       "6926   (TAACCAA)n             1\n",
       "6927    (GTTAGG)n             1\n",
       "6928   (GGCACCT)n             1\n",
       "6929  Repeat-free       6492328\n",
       "\n",
       "[6930 rows x 2 columns]"
      ]
     },
     "execution_count": 9,
     "metadata": {},
     "output_type": "execute_result"
    }
   ],
   "source": [
    "with open(f'{path}/subdata/2_generation.pkl', 'rb') as f:\n",
    "    c = pkl.load(f)\n",
    "pd.DataFrame(c)"
   ]
  },
  {
   "cell_type": "code",
   "execution_count": 10,
   "id": "d944fed8-d6e1-485a-a0ef-c389093e3bb9",
   "metadata": {},
   "outputs": [
    {
     "data": {
      "text/html": [
       "<div>\n",
       "<style scoped>\n",
       "    .dataframe tbody tr th:only-of-type {\n",
       "        vertical-align: middle;\n",
       "    }\n",
       "\n",
       "    .dataframe tbody tr th {\n",
       "        vertical-align: top;\n",
       "    }\n",
       "\n",
       "    .dataframe thead th {\n",
       "        text-align: right;\n",
       "    }\n",
       "</style>\n",
       "<table border=\"1\" class=\"dataframe\">\n",
       "  <thead>\n",
       "    <tr style=\"text-align: right;\">\n",
       "      <th></th>\n",
       "      <th>Family</th>\n",
       "      <th>EditingSites</th>\n",
       "    </tr>\n",
       "  </thead>\n",
       "  <tbody>\n",
       "    <tr>\n",
       "      <th>0</th>\n",
       "      <td>(TAACCC)n</td>\n",
       "      <td>30</td>\n",
       "    </tr>\n",
       "    <tr>\n",
       "      <th>1</th>\n",
       "      <td>TAR1</td>\n",
       "      <td>173</td>\n",
       "    </tr>\n",
       "    <tr>\n",
       "      <th>2</th>\n",
       "      <td>L1MC5a</td>\n",
       "      <td>22126</td>\n",
       "    </tr>\n",
       "    <tr>\n",
       "      <th>3</th>\n",
       "      <td>MIR3</td>\n",
       "      <td>40372</td>\n",
       "    </tr>\n",
       "    <tr>\n",
       "      <th>4</th>\n",
       "      <td>(TGCTCC)n</td>\n",
       "      <td>6</td>\n",
       "    </tr>\n",
       "    <tr>\n",
       "      <th>...</th>\n",
       "      <td>...</td>\n",
       "      <td>...</td>\n",
       "    </tr>\n",
       "    <tr>\n",
       "      <th>6937</th>\n",
       "      <td>(AAATACATTGT)n</td>\n",
       "      <td>2</td>\n",
       "    </tr>\n",
       "    <tr>\n",
       "      <th>6938</th>\n",
       "      <td>(CTTCTGG)n</td>\n",
       "      <td>1</td>\n",
       "    </tr>\n",
       "    <tr>\n",
       "      <th>6939</th>\n",
       "      <td>(CTTTGC)n</td>\n",
       "      <td>1</td>\n",
       "    </tr>\n",
       "    <tr>\n",
       "      <th>6940</th>\n",
       "      <td>(TAGGGT)n</td>\n",
       "      <td>1</td>\n",
       "    </tr>\n",
       "    <tr>\n",
       "      <th>6941</th>\n",
       "      <td>Repeat-free</td>\n",
       "      <td>6493865</td>\n",
       "    </tr>\n",
       "  </tbody>\n",
       "</table>\n",
       "<p>6942 rows × 2 columns</p>\n",
       "</div>"
      ],
      "text/plain": [
       "              Family  EditingSites\n",
       "0          (TAACCC)n            30\n",
       "1               TAR1           173\n",
       "2             L1MC5a         22126\n",
       "3               MIR3         40372\n",
       "4          (TGCTCC)n             6\n",
       "...              ...           ...\n",
       "6937  (AAATACATTGT)n             2\n",
       "6938      (CTTCTGG)n             1\n",
       "6939       (CTTTGC)n             1\n",
       "6940       (TAGGGT)n             1\n",
       "6941     Repeat-free       6493865\n",
       "\n",
       "[6942 rows x 2 columns]"
      ]
     },
     "execution_count": 10,
     "metadata": {},
     "output_type": "execute_result"
    }
   ],
   "source": [
    "with open(f'{path}/subdata/3_generation.pkl', 'rb') as f:\n",
    "    d = pkl.load(f)\n",
    "pd.DataFrame(d)"
   ]
  },
  {
   "cell_type": "code",
   "execution_count": null,
   "id": "9411d7bb",
   "metadata": {},
   "outputs": [],
   "source": []
  }
 ],
 "metadata": {
  "kernelspec": {
   "display_name": "Python 3 (ipykernel)",
   "language": "python",
   "name": "python3"
  },
  "language_info": {
   "codemirror_mode": {
    "name": "ipython",
    "version": 3
   },
   "file_extension": ".py",
   "mimetype": "text/x-python",
   "name": "python",
   "nbconvert_exporter": "python",
   "pygments_lexer": "ipython3",
   "version": "3.9.12"
  }
 },
 "nbformat": 4,
 "nbformat_minor": 5
}
