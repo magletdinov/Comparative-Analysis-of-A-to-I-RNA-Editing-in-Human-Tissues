{
 "cells": [
  {
   "cell_type": "markdown",
   "id": "4cff7f10-85bc-4b70-99e5-ed05295f0fe2",
   "metadata": {
    "tags": []
   },
   "source": [
    "# Создание аннотации для сайтов редактирования по семействам повторов"
   ]
  },
  {
   "cell_type": "code",
   "execution_count": 2,
   "id": "478dde1d-5f69-4c6a-aa70-33157ac9d055",
   "metadata": {},
   "outputs": [],
   "source": [
    "import pybedtools\n",
    "import pandas as pd\n",
    "import numpy as np\n",
    "import pickle\n",
    "from collections import defaultdict\n",
    "from pathlib import Path\n",
    "import seaborn as sns\n",
    "import matplotlib as mpl\n",
    "import matplotlib.pyplot as plt"
   ]
  },
  {
   "cell_type": "code",
   "execution_count": 9,
   "id": "73a67875-e41f-45bf-af1d-7fb7d840c205",
   "metadata": {
    "tags": []
   },
   "outputs": [],
   "source": [
    "path = '/home/mragletdinov/new_science/data'\n",
    "path2 = '/home/mragletdinov/new_science/Intersection_by_repFamily/data'"
   ]
  },
  {
   "cell_type": "markdown",
   "id": "ddd8bb1d-b43f-4cea-a357-c8273611f6b4",
   "metadata": {
    "tags": []
   },
   "source": [
    "## def"
   ]
  },
  {
   "cell_type": "code",
   "execution_count": 10,
   "id": "8f6f5336-25fa-43b4-b344-a0525c37bbf6",
   "metadata": {},
   "outputs": [],
   "source": [
    "def chroms_list() -> list:\n",
    "    \"\"\"Функция создает список реальных хромосом.\"\"\"\n",
    "    chroms = ['chr'+ str(i) for i in range(1,23)]\n",
    "    chroms.append('chrX')\n",
    "    chroms.append('chrY')\n",
    "    return chroms"
   ]
  },
  {
   "cell_type": "code",
   "execution_count": 11,
   "id": "934d30da-f262-45aa-bd0a-fb8dcaf62fff",
   "metadata": {},
   "outputs": [],
   "source": [
    "def count_esites_in_repeats(esites: Path, repeats: Path) -> pd.DataFrame:\n",
    "    \"\"\"\n",
    "    Функция принимает на вход два пути, по которым можно найти bed файлы сайтов \n",
    "    редактирования и повторов (семейства). Проводит их пересечение, тем самым создавая аннотацию последними.\n",
    "    Затем происходит подсчет сайтов редактирования на каждый повтор, включая область, свободную\n",
    "    от повторов. Аутпутом является датафрейм.\n",
    "    \"\"\"\n",
    "    esites = pybedtools.BedTool(esites)\n",
    "    repeats = pybedtools.BedTool(repeats)\n",
    "    intersection = repeats.intersect(esites)\n",
    "\n",
    "    counts = defaultdict(int)\n",
    "    for inter in intersection:\n",
    "        counts[inter.name] += inter.length\n",
    "\n",
    "    counts['Repeat-free'] = len(esites.subtract(intersection))\n",
    "    df = pd.DataFrame({\"RepFamily\": counts.keys(), \"EditingSites\": counts.values()})\n",
    "    df.sort_values(by='EditingSites', ignore_index=True, inplace=True, ascending=False)\n",
    "    return df"
   ]
  },
  {
   "cell_type": "code",
   "execution_count": 12,
   "id": "ac998a51-fd76-42dc-bb6f-c2c6ec99d528",
   "metadata": {},
   "outputs": [],
   "source": [
    "def group_rarely_edited_repeats(df, cutoff=21056):\n",
    "    sub_df = df.copy()\n",
    "    sub_df['RepFamily'] = sub_df['RepFamily'].where(sub_df['EditingSites'] > cutoff, \"Other repeats\")    \n",
    "    sub_df = sub_df.groupby(sub_df.RepFamily, as_index=False).agg({'EditingSites':'sum'})\n",
    "    sub_df.sort_values('EditingSites', ascending=False, inplace=True)\n",
    "    sub_df = sub_df.reset_index(drop=True)\n",
    "    #Перемещение строки с Other_repeats в конец таблицы\n",
    "    tobottom = sub_df.index[sub_df['RepFamily'] == 'Other repeats'][0]\n",
    "    index = sub_df.index.tolist()\n",
    "    index.pop(tobottom)\n",
    "    sub_df = sub_df.reindex(index+[tobottom])\n",
    "    sub_df = sub_df.reset_index(drop=True)\n",
    "    return (sub_df, tobottom)"
   ]
  },
  {
   "cell_type": "markdown",
   "id": "aada2976-2e24-46fe-b59f-08e47f30976e",
   "metadata": {
    "tags": []
   },
   "source": [
    "## Сайты редактирования редипортал"
   ]
  },
  {
   "cell_type": "code",
   "execution_count": 13,
   "id": "5469b008-97c1-4f13-ba30-8dc5cc640086",
   "metadata": {
    "tags": []
   },
   "outputs": [],
   "source": [
    "esites = pybedtools.BedTool(f\"{path}/esites_filt.bed.gz\")"
   ]
  },
  {
   "cell_type": "code",
   "execution_count": 14,
   "id": "158b729e-a110-45d2-9993-3ea06fbef4ab",
   "metadata": {},
   "outputs": [
    {
     "name": "stdout",
     "output_type": "stream",
     "text": [
      "chr1\t87158\t87159\n",
      " chr1\t87168\t87169\n",
      " chr1\t87171\t87172\n",
      " chr1\t87189\t87190\n",
      " chr1\t87218\t87219\n",
      " "
     ]
    }
   ],
   "source": [
    "esites.head(5)"
   ]
  },
  {
   "cell_type": "code",
   "execution_count": 15,
   "id": "57bb3676-9445-4c44-966d-0e8bf2b93a9c",
   "metadata": {},
   "outputs": [
    {
     "data": {
      "text/plain": [
       "15679823"
      ]
     },
     "execution_count": 15,
     "metadata": {},
     "output_type": "execute_result"
    }
   ],
   "source": [
    "len(esites)"
   ]
  },
  {
   "cell_type": "markdown",
   "id": "5d1e08fc-0306-4ad7-89f0-cac3c7db0c2c",
   "metadata": {
    "tags": []
   },
   "source": [
    "## Повторы с репит маскера"
   ]
  },
  {
   "cell_type": "code",
   "execution_count": 16,
   "id": "1d734f83-7288-4fd2-b2dc-9fc7472c4851",
   "metadata": {},
   "outputs": [],
   "source": [
    "df_repeat = df_repeats = pd.read_csv(f'{path2}/new_hg-repeat-masker_repFamily.bed.gz', \n",
    "                        on_bad_lines='skip',\n",
    "                        sep='\\t',\n",
    "                        )"
   ]
  },
  {
   "cell_type": "code",
   "execution_count": 17,
   "id": "e0adbaea-7780-426b-9da3-5876b4f2f3ef",
   "metadata": {},
   "outputs": [
    {
     "data": {
      "text/html": [
       "<div>\n",
       "<style scoped>\n",
       "    .dataframe tbody tr th:only-of-type {\n",
       "        vertical-align: middle;\n",
       "    }\n",
       "\n",
       "    .dataframe tbody tr th {\n",
       "        vertical-align: top;\n",
       "    }\n",
       "\n",
       "    .dataframe thead th {\n",
       "        text-align: right;\n",
       "    }\n",
       "</style>\n",
       "<table border=\"1\" class=\"dataframe\">\n",
       "  <thead>\n",
       "    <tr style=\"text-align: right;\">\n",
       "      <th></th>\n",
       "      <th>chrom</th>\n",
       "      <th>chromStart</th>\n",
       "      <th>chromEnd</th>\n",
       "      <th>repFamily</th>\n",
       "    </tr>\n",
       "  </thead>\n",
       "  <tbody>\n",
       "    <tr>\n",
       "      <th>0</th>\n",
       "      <td>chr1</td>\n",
       "      <td>10000</td>\n",
       "      <td>10468</td>\n",
       "      <td>Simple_repeat</td>\n",
       "    </tr>\n",
       "    <tr>\n",
       "      <th>1</th>\n",
       "      <td>chr1</td>\n",
       "      <td>10468</td>\n",
       "      <td>11447</td>\n",
       "      <td>Satellite</td>\n",
       "    </tr>\n",
       "    <tr>\n",
       "      <th>2</th>\n",
       "      <td>chr1</td>\n",
       "      <td>11504</td>\n",
       "      <td>11675</td>\n",
       "      <td>L1</td>\n",
       "    </tr>\n",
       "    <tr>\n",
       "      <th>3</th>\n",
       "      <td>chr1</td>\n",
       "      <td>11677</td>\n",
       "      <td>11780</td>\n",
       "      <td>hAT-Charlie</td>\n",
       "    </tr>\n",
       "    <tr>\n",
       "      <th>4</th>\n",
       "      <td>chr1</td>\n",
       "      <td>15264</td>\n",
       "      <td>15355</td>\n",
       "      <td>MIR</td>\n",
       "    </tr>\n",
       "  </tbody>\n",
       "</table>\n",
       "</div>"
      ],
      "text/plain": [
       "  chrom  chromStart  chromEnd      repFamily\n",
       "0  chr1       10000     10468  Simple_repeat\n",
       "1  chr1       10468     11447      Satellite\n",
       "2  chr1       11504     11675             L1\n",
       "3  chr1       11677     11780    hAT-Charlie\n",
       "4  chr1       15264     15355            MIR"
      ]
     },
     "execution_count": 17,
     "metadata": {},
     "output_type": "execute_result"
    }
   ],
   "source": [
    "df_repeat.head()"
   ]
  },
  {
   "cell_type": "code",
   "execution_count": 18,
   "id": "efc6f6a9-2b0c-4c17-ac7b-4bdbcca4f8bc",
   "metadata": {},
   "outputs": [
    {
     "data": {
      "text/plain": [
       "(5456300, 4)"
      ]
     },
     "execution_count": 18,
     "metadata": {},
     "output_type": "execute_result"
    }
   ],
   "source": [
    "df_repeat.shape"
   ]
  },
  {
   "cell_type": "code",
   "execution_count": 19,
   "id": "d869c1b3-4698-4a77-83a0-598f7b46a5e9",
   "metadata": {
    "collapsed": true,
    "jupyter": {
     "outputs_hidden": true
    },
    "tags": []
   },
   "outputs": [
    {
     "data": {
      "text/plain": [
       "array(['chr1', 'chr10', 'chr11', 'chr12', 'chr13', 'chr14', 'chr15',\n",
       "       'chr16', 'chr17', 'chr18', 'chr19', 'chr1_GL383518v1_alt',\n",
       "       'chr1_GL383519v1_alt', 'chr1_GL383520v2_alt',\n",
       "       'chr1_KI270759v1_alt', 'chr1_KI270760v1_alt',\n",
       "       'chr1_KI270761v1_alt', 'chr1_KI270762v1_alt',\n",
       "       'chr1_KI270763v1_alt', 'chr1_KI270764v1_alt',\n",
       "       'chr1_KI270765v1_alt', 'chr1_KI270766v1_alt',\n",
       "       'chr1_KI270892v1_alt', 'chr1_KN196472v1_fix',\n",
       "       'chr1_KN196473v1_fix', 'chr1_KN196474v1_fix',\n",
       "       'chr1_KN538360v1_fix', 'chr1_KN538361v1_fix',\n",
       "       'chr1_KQ031383v1_fix', 'chr1_KQ458382v1_alt',\n",
       "       'chr1_KQ458383v1_alt', 'chr1_KQ458384v1_alt',\n",
       "       'chr1_KQ983255v1_alt', 'chr1_KV880763v1_alt',\n",
       "       'chr1_KZ208904v1_alt', 'chr1_KZ208905v1_alt',\n",
       "       'chr1_KZ208906v1_fix', 'chr1_KZ559100v1_fix', 'chr2', 'chr20',\n",
       "       'chr21', 'chr22', 'chr2_GL383521v1_alt', 'chr2_GL383522v1_alt',\n",
       "       'chr2_GL582966v2_alt', 'chr2_KI270767v1_alt',\n",
       "       'chr2_KI270768v1_alt', 'chr2_KI270769v1_alt',\n",
       "       'chr2_KI270770v1_alt', 'chr2_KI270771v1_alt',\n",
       "       'chr2_KI270772v1_alt', 'chr2_KI270773v1_alt',\n",
       "       'chr2_KI270774v1_alt', 'chr2_KI270775v1_alt',\n",
       "       'chr2_KI270776v1_alt', 'chr2_KI270893v1_alt',\n",
       "       'chr2_KI270894v1_alt', 'chr2_KN538362v1_fix',\n",
       "       'chr2_KN538363v1_fix', 'chr2_KQ031384v1_fix',\n",
       "       'chr2_KQ983256v1_alt', 'chr2_KZ208907v1_alt',\n",
       "       'chr2_KZ208908v1_alt', 'chr2_ML143341v1_fix',\n",
       "       'chr2_ML143342v1_fix', 'chr3', 'chr3_GL383526v1_alt',\n",
       "       'chr3_JH636055v2_alt', 'chr3_KI270777v1_alt',\n",
       "       'chr3_KI270778v1_alt', 'chr3_KI270779v1_alt',\n",
       "       'chr3_KI270780v1_alt', 'chr3_KI270781v1_alt',\n",
       "       'chr3_KI270782v1_alt', 'chr3_KI270783v1_alt',\n",
       "       'chr3_KI270784v1_alt', 'chr3_KI270895v1_alt',\n",
       "       'chr3_KI270924v1_alt', 'chr3_KI270934v1_alt',\n",
       "       'chr3_KI270935v1_alt', 'chr3_KI270936v1_alt',\n",
       "       'chr3_KI270937v1_alt', 'chr3_KN196475v1_fix',\n",
       "       'chr3_KN196476v1_fix', 'chr3_KN538364v1_fix',\n",
       "       'chr3_KQ031385v1_fix', 'chr3_KQ031386v1_fix',\n",
       "       'chr3_KV766192v1_fix', 'chr3_KZ208909v1_alt',\n",
       "       'chr3_KZ559101v1_alt', 'chr3_KZ559102v1_alt',\n",
       "       'chr3_KZ559103v1_alt', 'chr3_KZ559104v1_fix',\n",
       "       'chr3_KZ559105v1_alt', 'chr3_ML143343v1_alt', 'chr4',\n",
       "       'chr4_GL000257v2_alt', 'chr4_GL383527v1_alt',\n",
       "       'chr4_GL383528v1_alt', 'chr4_KI270785v1_alt',\n",
       "       'chr4_KI270786v1_alt', 'chr4_KI270787v1_alt',\n",
       "       'chr4_KI270788v1_alt', 'chr4_KI270789v1_alt',\n",
       "       'chr4_KI270790v1_alt', 'chr4_KI270896v1_alt',\n",
       "       'chr4_KI270925v1_alt', 'chr4_KQ090013v1_alt',\n",
       "       'chr4_KQ090014v1_alt', 'chr4_KQ090015v1_alt',\n",
       "       'chr4_KQ983257v1_fix', 'chr4_KQ983258v1_alt',\n",
       "       'chr4_KV766193v1_alt', 'chr4_ML143344v1_fix',\n",
       "       'chr4_ML143345v1_fix', 'chr4_ML143346v1_fix',\n",
       "       'chr4_ML143347v1_fix', 'chr4_ML143348v1_fix',\n",
       "       'chr4_ML143349v1_fix', 'chr5', 'chr5_GL339449v2_alt',\n",
       "       'chr5_GL383530v1_alt', 'chr5_GL383531v1_alt',\n",
       "       'chr5_GL383532v1_alt', 'chr5_GL949742v1_alt',\n",
       "       'chr5_KI270791v1_alt', 'chr5_KI270792v1_alt',\n",
       "       'chr5_KI270793v1_alt', 'chr5_KI270794v1_alt',\n",
       "       'chr5_KI270795v1_alt', 'chr5_KI270796v1_alt',\n",
       "       'chr5_KI270897v1_alt', 'chr5_KI270898v1_alt',\n",
       "       'chr5_KN196477v1_alt', 'chr5_KV575243v1_alt',\n",
       "       'chr5_KV575244v1_fix', 'chr5_KZ208910v1_alt',\n",
       "       'chr5_ML143350v1_fix', 'chr6', 'chr6_GL000250v2_alt',\n",
       "       'chr6_GL000251v2_alt', 'chr6_GL000252v2_alt',\n",
       "       'chr6_GL000253v2_alt', 'chr6_GL000254v2_alt',\n",
       "       'chr6_GL000255v2_alt', 'chr6_GL000256v2_alt',\n",
       "       'chr6_GL383533v1_alt', 'chr6_KB021644v2_alt',\n",
       "       'chr6_KI270758v1_alt', 'chr6_KI270797v1_alt',\n",
       "       'chr6_KI270798v1_alt', 'chr6_KI270799v1_alt',\n",
       "       'chr6_KI270800v1_alt', 'chr6_KI270801v1_alt',\n",
       "       'chr6_KI270802v1_alt', 'chr6_KN196478v1_fix',\n",
       "       'chr6_KQ031387v1_fix', 'chr6_KQ090016v1_fix',\n",
       "       'chr6_KQ090017v1_alt', 'chr6_KV766194v1_fix',\n",
       "       'chr6_KZ208911v1_fix', 'chr6_ML143351v1_fix', 'chr7',\n",
       "       'chr7_GL383534v2_alt', 'chr7_KI270803v1_alt',\n",
       "       'chr7_KI270804v1_alt', 'chr7_KI270805v1_alt',\n",
       "       'chr7_KI270806v1_alt', 'chr7_KI270807v1_alt',\n",
       "       'chr7_KI270808v1_alt', 'chr7_KI270809v1_alt',\n",
       "       'chr7_KI270899v1_alt', 'chr7_KQ031388v1_fix',\n",
       "       'chr7_KV880764v1_fix', 'chr7_KV880765v1_fix',\n",
       "       'chr7_KZ208912v1_fix', 'chr7_KZ208913v1_alt',\n",
       "       'chr7_KZ559106v1_alt', 'chr7_ML143352v1_fix', 'chr8',\n",
       "       'chr8_KI270810v1_alt', 'chr8_KI270811v1_alt',\n",
       "       'chr8_KI270812v1_alt', 'chr8_KI270813v1_alt',\n",
       "       'chr8_KI270814v1_alt', 'chr8_KI270815v1_alt',\n",
       "       'chr8_KI270816v1_alt', 'chr8_KI270817v1_alt',\n",
       "       'chr8_KI270818v1_alt', 'chr8_KI270819v1_alt',\n",
       "       'chr8_KI270820v1_alt', 'chr8_KI270821v1_alt',\n",
       "       'chr8_KI270822v1_alt', 'chr8_KI270900v1_alt',\n",
       "       'chr8_KI270901v1_alt', 'chr8_KI270926v1_alt',\n",
       "       'chr8_KV880766v1_fix', 'chr8_KV880767v1_fix',\n",
       "       'chr8_KZ208914v1_fix', 'chr8_KZ208915v1_fix', 'chr9', 'chrM',\n",
       "       'chrUn_GL000195v1', 'chrUn_GL000213v1', 'chrUn_GL000214v1',\n",
       "       'chrUn_GL000216v2', 'chrUn_GL000218v1', 'chrUn_GL000219v1',\n",
       "       'chrUn_GL000220v1', 'chrUn_GL000224v1', 'chrUn_GL000226v1',\n",
       "       'chrUn_KI270302v1', 'chrUn_KI270303v1', 'chrUn_KI270304v1',\n",
       "       'chrUn_KI270305v1', 'chrUn_KI270310v1', 'chrUn_KI270311v1',\n",
       "       'chrUn_KI270312v1', 'chrUn_KI270315v1', 'chrUn_KI270316v1',\n",
       "       'chrUn_KI270317v1', 'chrUn_KI270320v1', 'chrUn_KI270322v1',\n",
       "       'chrUn_KI270329v1', 'chrUn_KI270330v1', 'chrUn_KI270333v1',\n",
       "       'chrUn_KI270334v1', 'chrUn_KI270335v1', 'chrUn_KI270336v1',\n",
       "       'chrUn_KI270337v1', 'chrUn_KI270338v1', 'chrUn_KI270340v1',\n",
       "       'chrUn_KI270362v1', 'chrUn_KI270363v1', 'chrUn_KI270364v1',\n",
       "       'chrUn_KI270366v1', 'chrUn_KI270371v1', 'chrUn_KI270372v1',\n",
       "       'chrUn_KI270373v1', 'chrUn_KI270374v1', 'chrUn_KI270375v1',\n",
       "       'chrUn_KI270376v1', 'chrUn_KI270378v1', 'chrUn_KI270379v1',\n",
       "       'chrUn_KI270381v1', 'chrUn_KI270382v1', 'chrUn_KI270383v1',\n",
       "       'chrUn_KI270384v1', 'chrUn_KI270385v1', 'chrUn_KI270386v1',\n",
       "       'chrUn_KI270387v1', 'chrUn_KI270388v1', 'chrUn_KI270389v1',\n",
       "       'chrUn_KI270390v1', 'chrUn_KI270391v1', 'chrUn_KI270392v1',\n",
       "       'chrUn_KI270393v1', 'chrUn_KI270394v1', 'chrUn_KI270395v1',\n",
       "       'chrUn_KI270396v1', 'chrUn_KI270411v1', 'chrUn_KI270412v1',\n",
       "       'chrUn_KI270414v1', 'chrUn_KI270417v1', 'chrUn_KI270418v1',\n",
       "       'chrUn_KI270419v1', 'chrUn_KI270420v1', 'chrUn_KI270422v1',\n",
       "       'chrUn_KI270423v1', 'chrUn_KI270424v1', 'chrUn_KI270425v1',\n",
       "       'chrUn_KI270429v1', 'chrUn_KI270435v1', 'chrUn_KI270438v1',\n",
       "       'chrUn_KI270442v1', 'chrUn_KI270448v1', 'chrUn_KI270465v1',\n",
       "       'chrUn_KI270466v1', 'chrUn_KI270467v1', 'chrUn_KI270468v1',\n",
       "       'chrUn_KI270507v1', 'chrUn_KI270508v1', 'chrUn_KI270509v1',\n",
       "       'chrUn_KI270510v1', 'chrUn_KI270511v1', 'chrUn_KI270512v1',\n",
       "       'chrUn_KI270515v1', 'chrUn_KI270516v1', 'chrUn_KI270517v1',\n",
       "       'chrUn_KI270518v1', 'chrUn_KI270519v1', 'chrUn_KI270521v1',\n",
       "       'chrUn_KI270522v1', 'chrUn_KI270528v1', 'chrUn_KI270529v1',\n",
       "       'chrUn_KI270530v1', 'chrUn_KI270538v1', 'chrUn_KI270539v1',\n",
       "       'chrUn_KI270544v1', 'chrUn_KI270548v1', 'chrUn_KI270579v1',\n",
       "       'chrUn_KI270580v1', 'chrUn_KI270581v1', 'chrUn_KI270582v1',\n",
       "       'chrUn_KI270583v1', 'chrUn_KI270584v1', 'chrUn_KI270587v1',\n",
       "       'chrUn_KI270588v1', 'chrUn_KI270589v1', 'chrUn_KI270590v1',\n",
       "       'chrUn_KI270591v1', 'chrUn_KI270593v1', 'chrUn_KI270741v1',\n",
       "       'chrUn_KI270742v1', 'chrUn_KI270743v1', 'chrUn_KI270744v1',\n",
       "       'chrUn_KI270745v1', 'chrUn_KI270746v1', 'chrUn_KI270747v1',\n",
       "       'chrUn_KI270748v1', 'chrUn_KI270749v1', 'chrUn_KI270750v1',\n",
       "       'chrUn_KI270751v1', 'chrUn_KI270752v1', 'chrUn_KI270753v1',\n",
       "       'chrUn_KI270754v1', 'chrUn_KI270755v1', 'chrUn_KI270756v1',\n",
       "       'chrUn_KI270757v1', 'chrX', 'chrY'], dtype=object)"
      ]
     },
     "execution_count": 19,
     "metadata": {},
     "output_type": "execute_result"
    }
   ],
   "source": [
    "df_repeat.chrom.unique()"
   ]
  },
  {
   "cell_type": "code",
   "execution_count": 20,
   "id": "76d0ffc8-e8d9-4f77-b48d-7db7e0051eda",
   "metadata": {},
   "outputs": [],
   "source": [
    "repeats = pybedtools.BedTool(f'{path2}/new_hg-repeat-masker_repFamily.bed.gz')"
   ]
  },
  {
   "cell_type": "code",
   "execution_count": 21,
   "id": "f8093eac-2db1-4a57-8444-6571b6454f06",
   "metadata": {},
   "outputs": [
    {
     "name": "stdout",
     "output_type": "stream",
     "text": [
      "chrom\tchromStart\tchromEnd\trepFamily\n",
      " chr1\t10000\t10468\tSimple_repeat\n",
      " chr1\t10468\t11447\tSatellite\n",
      " chr1\t11504\t11675\tL1\n",
      " chr1\t11677\t11780\thAT-Charlie\n",
      " chr1\t15264\t15355\tMIR\n",
      " chr1\t15797\t15849\tSimple_repeat\n",
      " chr1\t16712\t16744\tSimple_repeat\n",
      " chr1\t18906\t19048\tL2\n",
      " chr1\t19971\t20405\tCR1\n",
      " "
     ]
    }
   ],
   "source": [
    "repeats.head(10)"
   ]
  },
  {
   "cell_type": "markdown",
   "id": "0df62985-d747-4053-b594-faa05458e8f2",
   "metadata": {},
   "source": [
    "Выберем только 24 хромосомы"
   ]
  },
  {
   "cell_type": "code",
   "execution_count": 22,
   "id": "36872017-6cc3-4620-83a1-b6cf78129520",
   "metadata": {
    "tags": []
   },
   "outputs": [],
   "source": [
    "mask = df_repeats.chrom.isin(chroms_list())"
   ]
  },
  {
   "cell_type": "code",
   "execution_count": 23,
   "id": "f1d65d96-c78d-410b-9890-045c474836d4",
   "metadata": {
    "tags": []
   },
   "outputs": [],
   "source": [
    "df_repeats = df_repeats[mask]"
   ]
  },
  {
   "cell_type": "code",
   "execution_count": 24,
   "id": "5e794d4a-589e-4e7b-b5ee-fb1515c32e8e",
   "metadata": {},
   "outputs": [
    {
     "data": {
      "text/html": [
       "<div>\n",
       "<style scoped>\n",
       "    .dataframe tbody tr th:only-of-type {\n",
       "        vertical-align: middle;\n",
       "    }\n",
       "\n",
       "    .dataframe tbody tr th {\n",
       "        vertical-align: top;\n",
       "    }\n",
       "\n",
       "    .dataframe thead th {\n",
       "        text-align: right;\n",
       "    }\n",
       "</style>\n",
       "<table border=\"1\" class=\"dataframe\">\n",
       "  <thead>\n",
       "    <tr style=\"text-align: right;\">\n",
       "      <th></th>\n",
       "      <th>chrom</th>\n",
       "      <th>chromStart</th>\n",
       "      <th>chromEnd</th>\n",
       "      <th>repFamily</th>\n",
       "    </tr>\n",
       "  </thead>\n",
       "  <tbody>\n",
       "    <tr>\n",
       "      <th>0</th>\n",
       "      <td>chr1</td>\n",
       "      <td>10000</td>\n",
       "      <td>10468</td>\n",
       "      <td>Simple_repeat</td>\n",
       "    </tr>\n",
       "    <tr>\n",
       "      <th>1</th>\n",
       "      <td>chr1</td>\n",
       "      <td>10468</td>\n",
       "      <td>11447</td>\n",
       "      <td>Satellite</td>\n",
       "    </tr>\n",
       "    <tr>\n",
       "      <th>2</th>\n",
       "      <td>chr1</td>\n",
       "      <td>11504</td>\n",
       "      <td>11675</td>\n",
       "      <td>L1</td>\n",
       "    </tr>\n",
       "    <tr>\n",
       "      <th>3</th>\n",
       "      <td>chr1</td>\n",
       "      <td>11677</td>\n",
       "      <td>11780</td>\n",
       "      <td>hAT-Charlie</td>\n",
       "    </tr>\n",
       "    <tr>\n",
       "      <th>4</th>\n",
       "      <td>chr1</td>\n",
       "      <td>15264</td>\n",
       "      <td>15355</td>\n",
       "      <td>MIR</td>\n",
       "    </tr>\n",
       "    <tr>\n",
       "      <th>...</th>\n",
       "      <td>...</td>\n",
       "      <td>...</td>\n",
       "      <td>...</td>\n",
       "      <td>...</td>\n",
       "    </tr>\n",
       "    <tr>\n",
       "      <th>5456295</th>\n",
       "      <td>chrY</td>\n",
       "      <td>57214796</td>\n",
       "      <td>57214899</td>\n",
       "      <td>hAT-Charlie</td>\n",
       "    </tr>\n",
       "    <tr>\n",
       "      <th>5456296</th>\n",
       "      <td>chrY</td>\n",
       "      <td>57214901</td>\n",
       "      <td>57215093</td>\n",
       "      <td>L1</td>\n",
       "    </tr>\n",
       "    <tr>\n",
       "      <th>5456297</th>\n",
       "      <td>chrY</td>\n",
       "      <td>57215116</td>\n",
       "      <td>57216403</td>\n",
       "      <td>Satellite</td>\n",
       "    </tr>\n",
       "    <tr>\n",
       "      <th>5456298</th>\n",
       "      <td>chrY</td>\n",
       "      <td>57216406</td>\n",
       "      <td>57217320</td>\n",
       "      <td>Simple_repeat</td>\n",
       "    </tr>\n",
       "    <tr>\n",
       "      <th>5456299</th>\n",
       "      <td>chrY</td>\n",
       "      <td>57217320</td>\n",
       "      <td>57217413</td>\n",
       "      <td>Simple_repeat</td>\n",
       "    </tr>\n",
       "  </tbody>\n",
       "</table>\n",
       "<p>5317286 rows × 4 columns</p>\n",
       "</div>"
      ],
      "text/plain": [
       "        chrom  chromStart  chromEnd      repFamily\n",
       "0        chr1       10000     10468  Simple_repeat\n",
       "1        chr1       10468     11447      Satellite\n",
       "2        chr1       11504     11675             L1\n",
       "3        chr1       11677     11780    hAT-Charlie\n",
       "4        chr1       15264     15355            MIR\n",
       "...       ...         ...       ...            ...\n",
       "5456295  chrY    57214796  57214899    hAT-Charlie\n",
       "5456296  chrY    57214901  57215093             L1\n",
       "5456297  chrY    57215116  57216403      Satellite\n",
       "5456298  chrY    57216406  57217320  Simple_repeat\n",
       "5456299  chrY    57217320  57217413  Simple_repeat\n",
       "\n",
       "[5317286 rows x 4 columns]"
      ]
     },
     "execution_count": 24,
     "metadata": {},
     "output_type": "execute_result"
    }
   ],
   "source": [
    "df_repeats"
   ]
  },
  {
   "cell_type": "code",
   "execution_count": 25,
   "id": "3790d7d0-434b-4cd5-abbe-4916e64deac0",
   "metadata": {},
   "outputs": [
    {
     "data": {
      "text/html": [
       "<div>\n",
       "<style scoped>\n",
       "    .dataframe tbody tr th:only-of-type {\n",
       "        vertical-align: middle;\n",
       "    }\n",
       "\n",
       "    .dataframe tbody tr th {\n",
       "        vertical-align: top;\n",
       "    }\n",
       "\n",
       "    .dataframe thead th {\n",
       "        text-align: right;\n",
       "    }\n",
       "</style>\n",
       "<table border=\"1\" class=\"dataframe\">\n",
       "  <thead>\n",
       "    <tr style=\"text-align: right;\">\n",
       "      <th></th>\n",
       "      <th>chrom</th>\n",
       "      <th>chromStart</th>\n",
       "      <th>chromEnd</th>\n",
       "      <th>repFamily</th>\n",
       "    </tr>\n",
       "  </thead>\n",
       "  <tbody>\n",
       "    <tr>\n",
       "      <th>0</th>\n",
       "      <td>chr1</td>\n",
       "      <td>10000</td>\n",
       "      <td>10468</td>\n",
       "      <td>Simple_repeat</td>\n",
       "    </tr>\n",
       "    <tr>\n",
       "      <th>1</th>\n",
       "      <td>chr1</td>\n",
       "      <td>10468</td>\n",
       "      <td>11447</td>\n",
       "      <td>Satellite</td>\n",
       "    </tr>\n",
       "    <tr>\n",
       "      <th>2</th>\n",
       "      <td>chr1</td>\n",
       "      <td>11504</td>\n",
       "      <td>11675</td>\n",
       "      <td>L1</td>\n",
       "    </tr>\n",
       "    <tr>\n",
       "      <th>3</th>\n",
       "      <td>chr1</td>\n",
       "      <td>11677</td>\n",
       "      <td>11780</td>\n",
       "      <td>hAT-Charlie</td>\n",
       "    </tr>\n",
       "    <tr>\n",
       "      <th>4</th>\n",
       "      <td>chr1</td>\n",
       "      <td>15264</td>\n",
       "      <td>15355</td>\n",
       "      <td>MIR</td>\n",
       "    </tr>\n",
       "    <tr>\n",
       "      <th>...</th>\n",
       "      <td>...</td>\n",
       "      <td>...</td>\n",
       "      <td>...</td>\n",
       "      <td>...</td>\n",
       "    </tr>\n",
       "    <tr>\n",
       "      <th>5317281</th>\n",
       "      <td>chrY</td>\n",
       "      <td>57214796</td>\n",
       "      <td>57214899</td>\n",
       "      <td>hAT-Charlie</td>\n",
       "    </tr>\n",
       "    <tr>\n",
       "      <th>5317282</th>\n",
       "      <td>chrY</td>\n",
       "      <td>57214901</td>\n",
       "      <td>57215093</td>\n",
       "      <td>L1</td>\n",
       "    </tr>\n",
       "    <tr>\n",
       "      <th>5317283</th>\n",
       "      <td>chrY</td>\n",
       "      <td>57215116</td>\n",
       "      <td>57216403</td>\n",
       "      <td>Satellite</td>\n",
       "    </tr>\n",
       "    <tr>\n",
       "      <th>5317284</th>\n",
       "      <td>chrY</td>\n",
       "      <td>57216406</td>\n",
       "      <td>57217320</td>\n",
       "      <td>Simple_repeat</td>\n",
       "    </tr>\n",
       "    <tr>\n",
       "      <th>5317285</th>\n",
       "      <td>chrY</td>\n",
       "      <td>57217320</td>\n",
       "      <td>57217413</td>\n",
       "      <td>Simple_repeat</td>\n",
       "    </tr>\n",
       "  </tbody>\n",
       "</table>\n",
       "<p>5317286 rows × 4 columns</p>\n",
       "</div>"
      ],
      "text/plain": [
       "        chrom  chromStart  chromEnd      repFamily\n",
       "0        chr1       10000     10468  Simple_repeat\n",
       "1        chr1       10468     11447      Satellite\n",
       "2        chr1       11504     11675             L1\n",
       "3        chr1       11677     11780    hAT-Charlie\n",
       "4        chr1       15264     15355            MIR\n",
       "...       ...         ...       ...            ...\n",
       "5317281  chrY    57214796  57214899    hAT-Charlie\n",
       "5317282  chrY    57214901  57215093             L1\n",
       "5317283  chrY    57215116  57216403      Satellite\n",
       "5317284  chrY    57216406  57217320  Simple_repeat\n",
       "5317285  chrY    57217320  57217413  Simple_repeat\n",
       "\n",
       "[5317286 rows x 4 columns]"
      ]
     },
     "execution_count": 25,
     "metadata": {},
     "output_type": "execute_result"
    }
   ],
   "source": [
    "df_repeats.reset_index(drop=True, inplace=True)\n",
    "df_repeats"
   ]
  },
  {
   "cell_type": "markdown",
   "id": "ea5c0fe0-3bed-4fe0-b766-f36f24e00fed",
   "metadata": {},
   "source": [
    "Проверим на дубликаты."
   ]
  },
  {
   "cell_type": "code",
   "execution_count": 26,
   "id": "253739e8-4626-41a1-93f1-456cc236e5f0",
   "metadata": {},
   "outputs": [
    {
     "data": {
      "text/plain": [
       "5317286"
      ]
     },
     "execution_count": 26,
     "metadata": {},
     "output_type": "execute_result"
    }
   ],
   "source": [
    "len(df_repeats)"
   ]
  },
  {
   "cell_type": "code",
   "execution_count": 27,
   "id": "c5e2e7b0-77e4-42d1-ab9c-6daaedc9f3e3",
   "metadata": {},
   "outputs": [],
   "source": [
    "df_repeats = df_repeats.drop_duplicates()"
   ]
  },
  {
   "cell_type": "code",
   "execution_count": 28,
   "id": "042ec074-16f2-4c50-a495-1a01af4cc2ce",
   "metadata": {},
   "outputs": [],
   "source": [
    "df_repeats = df_repeats.dropna()"
   ]
  },
  {
   "cell_type": "code",
   "execution_count": 29,
   "id": "c3428ae2-b30f-4a64-903a-68bbfe612fe4",
   "metadata": {},
   "outputs": [],
   "source": [
    "df_repeats = df_repeats.astype({'chromStart':'int32', 'chromEnd':'int32'})"
   ]
  },
  {
   "cell_type": "code",
   "execution_count": 30,
   "id": "ac718cf9-acf2-42c2-b955-3a174d36b203",
   "metadata": {
    "tags": []
   },
   "outputs": [
    {
     "data": {
      "text/html": [
       "<div>\n",
       "<style scoped>\n",
       "    .dataframe tbody tr th:only-of-type {\n",
       "        vertical-align: middle;\n",
       "    }\n",
       "\n",
       "    .dataframe tbody tr th {\n",
       "        vertical-align: top;\n",
       "    }\n",
       "\n",
       "    .dataframe thead th {\n",
       "        text-align: right;\n",
       "    }\n",
       "</style>\n",
       "<table border=\"1\" class=\"dataframe\">\n",
       "  <thead>\n",
       "    <tr style=\"text-align: right;\">\n",
       "      <th></th>\n",
       "      <th>chrom</th>\n",
       "      <th>chromStart</th>\n",
       "      <th>chromEnd</th>\n",
       "      <th>repFamily</th>\n",
       "    </tr>\n",
       "  </thead>\n",
       "  <tbody>\n",
       "    <tr>\n",
       "      <th>0</th>\n",
       "      <td>chr1</td>\n",
       "      <td>10000</td>\n",
       "      <td>10468</td>\n",
       "      <td>Simple_repeat</td>\n",
       "    </tr>\n",
       "    <tr>\n",
       "      <th>1</th>\n",
       "      <td>chr1</td>\n",
       "      <td>10468</td>\n",
       "      <td>11447</td>\n",
       "      <td>Satellite</td>\n",
       "    </tr>\n",
       "    <tr>\n",
       "      <th>2</th>\n",
       "      <td>chr1</td>\n",
       "      <td>11504</td>\n",
       "      <td>11675</td>\n",
       "      <td>L1</td>\n",
       "    </tr>\n",
       "    <tr>\n",
       "      <th>3</th>\n",
       "      <td>chr1</td>\n",
       "      <td>11677</td>\n",
       "      <td>11780</td>\n",
       "      <td>hAT-Charlie</td>\n",
       "    </tr>\n",
       "    <tr>\n",
       "      <th>4</th>\n",
       "      <td>chr1</td>\n",
       "      <td>15264</td>\n",
       "      <td>15355</td>\n",
       "      <td>MIR</td>\n",
       "    </tr>\n",
       "    <tr>\n",
       "      <th>...</th>\n",
       "      <td>...</td>\n",
       "      <td>...</td>\n",
       "      <td>...</td>\n",
       "      <td>...</td>\n",
       "    </tr>\n",
       "    <tr>\n",
       "      <th>5317281</th>\n",
       "      <td>chrY</td>\n",
       "      <td>57214796</td>\n",
       "      <td>57214899</td>\n",
       "      <td>hAT-Charlie</td>\n",
       "    </tr>\n",
       "    <tr>\n",
       "      <th>5317282</th>\n",
       "      <td>chrY</td>\n",
       "      <td>57214901</td>\n",
       "      <td>57215093</td>\n",
       "      <td>L1</td>\n",
       "    </tr>\n",
       "    <tr>\n",
       "      <th>5317283</th>\n",
       "      <td>chrY</td>\n",
       "      <td>57215116</td>\n",
       "      <td>57216403</td>\n",
       "      <td>Satellite</td>\n",
       "    </tr>\n",
       "    <tr>\n",
       "      <th>5317284</th>\n",
       "      <td>chrY</td>\n",
       "      <td>57216406</td>\n",
       "      <td>57217320</td>\n",
       "      <td>Simple_repeat</td>\n",
       "    </tr>\n",
       "    <tr>\n",
       "      <th>5317285</th>\n",
       "      <td>chrY</td>\n",
       "      <td>57217320</td>\n",
       "      <td>57217413</td>\n",
       "      <td>Simple_repeat</td>\n",
       "    </tr>\n",
       "  </tbody>\n",
       "</table>\n",
       "<p>5317286 rows × 4 columns</p>\n",
       "</div>"
      ],
      "text/plain": [
       "        chrom  chromStart  chromEnd      repFamily\n",
       "0        chr1       10000     10468  Simple_repeat\n",
       "1        chr1       10468     11447      Satellite\n",
       "2        chr1       11504     11675             L1\n",
       "3        chr1       11677     11780    hAT-Charlie\n",
       "4        chr1       15264     15355            MIR\n",
       "...       ...         ...       ...            ...\n",
       "5317281  chrY    57214796  57214899    hAT-Charlie\n",
       "5317282  chrY    57214901  57215093             L1\n",
       "5317283  chrY    57215116  57216403      Satellite\n",
       "5317284  chrY    57216406  57217320  Simple_repeat\n",
       "5317285  chrY    57217320  57217413  Simple_repeat\n",
       "\n",
       "[5317286 rows x 4 columns]"
      ]
     },
     "execution_count": 30,
     "metadata": {},
     "output_type": "execute_result"
    }
   ],
   "source": [
    "df_repeats"
   ]
  },
  {
   "cell_type": "code",
   "execution_count": 31,
   "id": "3391ddb5-09db-4b60-9261-e70fc648b316",
   "metadata": {},
   "outputs": [
    {
     "data": {
      "text/plain": [
       "5317286"
      ]
     },
     "execution_count": 31,
     "metadata": {},
     "output_type": "execute_result"
    }
   ],
   "source": [
    "len(df_repeats)#Размер тот же. Значит файл был уже почищен"
   ]
  },
  {
   "cell_type": "code",
   "execution_count": 32,
   "id": "0ed42d31-3a3d-40d7-b67e-89f6ee1fb0ea",
   "metadata": {},
   "outputs": [],
   "source": [
    "df_repeats_group = df_repeats.groupby(by=['chrom','chromStart','chromEnd']) \\\n",
    "                    .aggregate({'repFamily':'count'}) \\\n",
    "                    .rename(columns={'repFamily':'count'})"
   ]
  },
  {
   "cell_type": "code",
   "execution_count": 33,
   "id": "61fc8c87-7173-4c2b-a8ff-9697f8d32c15",
   "metadata": {},
   "outputs": [
    {
     "data": {
      "text/html": [
       "<div>\n",
       "<style scoped>\n",
       "    .dataframe tbody tr th:only-of-type {\n",
       "        vertical-align: middle;\n",
       "    }\n",
       "\n",
       "    .dataframe tbody tr th {\n",
       "        vertical-align: top;\n",
       "    }\n",
       "\n",
       "    .dataframe thead th {\n",
       "        text-align: right;\n",
       "    }\n",
       "</style>\n",
       "<table border=\"1\" class=\"dataframe\">\n",
       "  <thead>\n",
       "    <tr style=\"text-align: right;\">\n",
       "      <th></th>\n",
       "      <th></th>\n",
       "      <th></th>\n",
       "      <th>count</th>\n",
       "    </tr>\n",
       "    <tr>\n",
       "      <th>chrom</th>\n",
       "      <th>chromStart</th>\n",
       "      <th>chromEnd</th>\n",
       "      <th></th>\n",
       "    </tr>\n",
       "  </thead>\n",
       "  <tbody>\n",
       "    <tr>\n",
       "      <th rowspan=\"5\" valign=\"top\">chr1</th>\n",
       "      <th>10000</th>\n",
       "      <th>10468</th>\n",
       "      <td>1</td>\n",
       "    </tr>\n",
       "    <tr>\n",
       "      <th>10468</th>\n",
       "      <th>11447</th>\n",
       "      <td>1</td>\n",
       "    </tr>\n",
       "    <tr>\n",
       "      <th>11504</th>\n",
       "      <th>11675</th>\n",
       "      <td>1</td>\n",
       "    </tr>\n",
       "    <tr>\n",
       "      <th>11677</th>\n",
       "      <th>11780</th>\n",
       "      <td>1</td>\n",
       "    </tr>\n",
       "    <tr>\n",
       "      <th>15264</th>\n",
       "      <th>15355</th>\n",
       "      <td>1</td>\n",
       "    </tr>\n",
       "  </tbody>\n",
       "</table>\n",
       "</div>"
      ],
      "text/plain": [
       "                           count\n",
       "chrom chromStart chromEnd       \n",
       "chr1  10000      10468         1\n",
       "      10468      11447         1\n",
       "      11504      11675         1\n",
       "      11677      11780         1\n",
       "      15264      15355         1"
      ]
     },
     "execution_count": 33,
     "metadata": {},
     "output_type": "execute_result"
    }
   ],
   "source": [
    "df_repeats_group.head(5)"
   ]
  },
  {
   "cell_type": "code",
   "execution_count": 34,
   "id": "f53a0fd6-edfe-4611-b259-e86ce285cd9d",
   "metadata": {},
   "outputs": [
    {
     "data": {
      "text/html": [
       "<div>\n",
       "<style scoped>\n",
       "    .dataframe tbody tr th:only-of-type {\n",
       "        vertical-align: middle;\n",
       "    }\n",
       "\n",
       "    .dataframe tbody tr th {\n",
       "        vertical-align: top;\n",
       "    }\n",
       "\n",
       "    .dataframe thead th {\n",
       "        text-align: right;\n",
       "    }\n",
       "</style>\n",
       "<table border=\"1\" class=\"dataframe\">\n",
       "  <thead>\n",
       "    <tr style=\"text-align: right;\">\n",
       "      <th></th>\n",
       "      <th></th>\n",
       "      <th></th>\n",
       "      <th>count</th>\n",
       "    </tr>\n",
       "    <tr>\n",
       "      <th>chrom</th>\n",
       "      <th>chromStart</th>\n",
       "      <th>chromEnd</th>\n",
       "      <th></th>\n",
       "    </tr>\n",
       "  </thead>\n",
       "  <tbody>\n",
       "  </tbody>\n",
       "</table>\n",
       "</div>"
      ],
      "text/plain": [
       "Empty DataFrame\n",
       "Columns: [count]\n",
       "Index: []"
      ]
     },
     "execution_count": 34,
     "metadata": {},
     "output_type": "execute_result"
    }
   ],
   "source": [
    "df_repeats_group.query('count == 2')\n",
    "#строк,которые имеют одинаковые координаты, но РАЗНЫЕ имена НЕТ. И это хорошо."
   ]
  },
  {
   "cell_type": "code",
   "execution_count": 35,
   "id": "f05e738e-0253-4e38-a6d8-479ba18ba4d9",
   "metadata": {},
   "outputs": [],
   "source": [
    "#Если бы были дубли по названиям семейств - так можно проверять\n",
    "#df_repeats.query('chromStart == 10000' and 'chromEnd == 10038')"
   ]
  },
  {
   "cell_type": "code",
   "execution_count": 36,
   "id": "c172aa0a-287e-4b59-b9a3-45418aadcbef",
   "metadata": {},
   "outputs": [
    {
     "data": {
      "text/html": [
       "<div>\n",
       "<style scoped>\n",
       "    .dataframe tbody tr th:only-of-type {\n",
       "        vertical-align: middle;\n",
       "    }\n",
       "\n",
       "    .dataframe tbody tr th {\n",
       "        vertical-align: top;\n",
       "    }\n",
       "\n",
       "    .dataframe thead th {\n",
       "        text-align: right;\n",
       "    }\n",
       "</style>\n",
       "<table border=\"1\" class=\"dataframe\">\n",
       "  <thead>\n",
       "    <tr style=\"text-align: right;\">\n",
       "      <th></th>\n",
       "      <th>chrom</th>\n",
       "      <th>chromStart</th>\n",
       "      <th>chromEnd</th>\n",
       "      <th>repFamily</th>\n",
       "    </tr>\n",
       "  </thead>\n",
       "  <tbody>\n",
       "  </tbody>\n",
       "</table>\n",
       "</div>"
      ],
      "text/plain": [
       "Empty DataFrame\n",
       "Columns: [chrom, chromStart, chromEnd, repFamily]\n",
       "Index: []"
      ]
     },
     "execution_count": 36,
     "metadata": {},
     "output_type": "execute_result"
    }
   ],
   "source": [
    "df_repeats.query('chromStart == 46809360' and 'chromEnd == 46809361')"
   ]
  },
  {
   "cell_type": "code",
   "execution_count": 37,
   "id": "c16a3b79-7362-4478-81b3-992a9ebd2374",
   "metadata": {},
   "outputs": [],
   "source": [
    "df_repeats.sort_values(by=['chrom','chromStart','chromEnd'], ignore_index=True, inplace=True)"
   ]
  },
  {
   "cell_type": "code",
   "execution_count": 38,
   "id": "3dbdf64d-5ac2-4ac0-ad46-72b7f768534e",
   "metadata": {},
   "outputs": [
    {
     "data": {
      "text/html": [
       "<div>\n",
       "<style scoped>\n",
       "    .dataframe tbody tr th:only-of-type {\n",
       "        vertical-align: middle;\n",
       "    }\n",
       "\n",
       "    .dataframe tbody tr th {\n",
       "        vertical-align: top;\n",
       "    }\n",
       "\n",
       "    .dataframe thead th {\n",
       "        text-align: right;\n",
       "    }\n",
       "</style>\n",
       "<table border=\"1\" class=\"dataframe\">\n",
       "  <thead>\n",
       "    <tr style=\"text-align: right;\">\n",
       "      <th></th>\n",
       "      <th>chrom</th>\n",
       "      <th>chromStart</th>\n",
       "      <th>chromEnd</th>\n",
       "      <th>repFamily</th>\n",
       "    </tr>\n",
       "  </thead>\n",
       "  <tbody>\n",
       "    <tr>\n",
       "      <th>0</th>\n",
       "      <td>chr1</td>\n",
       "      <td>10000</td>\n",
       "      <td>10468</td>\n",
       "      <td>Simple_repeat</td>\n",
       "    </tr>\n",
       "    <tr>\n",
       "      <th>1</th>\n",
       "      <td>chr1</td>\n",
       "      <td>10468</td>\n",
       "      <td>11447</td>\n",
       "      <td>Satellite</td>\n",
       "    </tr>\n",
       "    <tr>\n",
       "      <th>2</th>\n",
       "      <td>chr1</td>\n",
       "      <td>11504</td>\n",
       "      <td>11675</td>\n",
       "      <td>L1</td>\n",
       "    </tr>\n",
       "    <tr>\n",
       "      <th>3</th>\n",
       "      <td>chr1</td>\n",
       "      <td>11677</td>\n",
       "      <td>11780</td>\n",
       "      <td>hAT-Charlie</td>\n",
       "    </tr>\n",
       "    <tr>\n",
       "      <th>4</th>\n",
       "      <td>chr1</td>\n",
       "      <td>15264</td>\n",
       "      <td>15355</td>\n",
       "      <td>MIR</td>\n",
       "    </tr>\n",
       "    <tr>\n",
       "      <th>...</th>\n",
       "      <td>...</td>\n",
       "      <td>...</td>\n",
       "      <td>...</td>\n",
       "      <td>...</td>\n",
       "    </tr>\n",
       "    <tr>\n",
       "      <th>5317281</th>\n",
       "      <td>chrY</td>\n",
       "      <td>57214796</td>\n",
       "      <td>57214899</td>\n",
       "      <td>hAT-Charlie</td>\n",
       "    </tr>\n",
       "    <tr>\n",
       "      <th>5317282</th>\n",
       "      <td>chrY</td>\n",
       "      <td>57214901</td>\n",
       "      <td>57215093</td>\n",
       "      <td>L1</td>\n",
       "    </tr>\n",
       "    <tr>\n",
       "      <th>5317283</th>\n",
       "      <td>chrY</td>\n",
       "      <td>57215116</td>\n",
       "      <td>57216403</td>\n",
       "      <td>Satellite</td>\n",
       "    </tr>\n",
       "    <tr>\n",
       "      <th>5317284</th>\n",
       "      <td>chrY</td>\n",
       "      <td>57216406</td>\n",
       "      <td>57217320</td>\n",
       "      <td>Simple_repeat</td>\n",
       "    </tr>\n",
       "    <tr>\n",
       "      <th>5317285</th>\n",
       "      <td>chrY</td>\n",
       "      <td>57217320</td>\n",
       "      <td>57217413</td>\n",
       "      <td>Simple_repeat</td>\n",
       "    </tr>\n",
       "  </tbody>\n",
       "</table>\n",
       "<p>5317286 rows × 4 columns</p>\n",
       "</div>"
      ],
      "text/plain": [
       "        chrom  chromStart  chromEnd      repFamily\n",
       "0        chr1       10000     10468  Simple_repeat\n",
       "1        chr1       10468     11447      Satellite\n",
       "2        chr1       11504     11675             L1\n",
       "3        chr1       11677     11780    hAT-Charlie\n",
       "4        chr1       15264     15355            MIR\n",
       "...       ...         ...       ...            ...\n",
       "5317281  chrY    57214796  57214899    hAT-Charlie\n",
       "5317282  chrY    57214901  57215093             L1\n",
       "5317283  chrY    57215116  57216403      Satellite\n",
       "5317284  chrY    57216406  57217320  Simple_repeat\n",
       "5317285  chrY    57217320  57217413  Simple_repeat\n",
       "\n",
       "[5317286 rows x 4 columns]"
      ]
     },
     "execution_count": 38,
     "metadata": {},
     "output_type": "execute_result"
    }
   ],
   "source": [
    "df_repeats"
   ]
  },
  {
   "cell_type": "code",
   "execution_count": 39,
   "id": "5f2f9c7b-379f-409c-aaa4-a27a1f754e05",
   "metadata": {},
   "outputs": [],
   "source": [
    "df_repeats.to_csv(f'{path2}/repeats_by_family.bed.gz', sep='\\t',\n",
    "                 header=None,\n",
    "                 index=False,\n",
    "                 compression='gzip'\n",
    "                 )"
   ]
  },
  {
   "cell_type": "markdown",
   "id": "1498b332-f93a-4723-b41c-8cbefcf4b350",
   "metadata": {
    "tags": []
   },
   "source": [
    "## Теперь все верно. Файл в правильном формате"
   ]
  },
  {
   "cell_type": "code",
   "execution_count": 40,
   "id": "fc2d41e0-8534-4143-b093-e31792308fd0",
   "metadata": {},
   "outputs": [],
   "source": [
    "repeats = pybedtools.BedTool(f\"{path2}/repeats_by_family.bed.gz\")"
   ]
  },
  {
   "cell_type": "code",
   "execution_count": 41,
   "id": "b9a82139-1434-47a0-b7e2-bf7b60b61cfd",
   "metadata": {},
   "outputs": [
    {
     "name": "stdout",
     "output_type": "stream",
     "text": [
      "chr1\t10000\t10468\tSimple_repeat\n",
      " chr1\t10468\t11447\tSatellite\n",
      " chr1\t11504\t11675\tL1\n",
      " chr1\t11677\t11780\thAT-Charlie\n",
      " chr1\t15264\t15355\tMIR\n",
      " chr1\t15797\t15849\tSimple_repeat\n",
      " chr1\t16712\t16744\tSimple_repeat\n",
      " chr1\t18906\t19048\tL2\n",
      " chr1\t19971\t20405\tCR1\n",
      " chr1\t20530\t20679\tCR1\n",
      " "
     ]
    }
   ],
   "source": [
    "repeats.head()"
   ]
  },
  {
   "cell_type": "markdown",
   "id": "2066f0eb-73f7-42f9-a11b-d6e4399617e0",
   "metadata": {
    "tags": []
   },
   "source": [
    "## Проведем пересечение esites и repeats"
   ]
  },
  {
   "cell_type": "code",
   "execution_count": 42,
   "id": "633dd003-9aad-401f-a485-069e862d4db8",
   "metadata": {},
   "outputs": [],
   "source": [
    "edits = count_esites_in_repeats(esites=f\"{path}/esites_filt.bed.gz\",\n",
    "                       repeats=f\"{path2}/repeats_by_family.bed.gz\")"
   ]
  },
  {
   "cell_type": "code",
   "execution_count": 43,
   "id": "22ab41ea-b1e1-40ea-85d6-7f6a7ccef439",
   "metadata": {
    "tags": []
   },
   "outputs": [
    {
     "data": {
      "text/html": [
       "<div>\n",
       "<style scoped>\n",
       "    .dataframe tbody tr th:only-of-type {\n",
       "        vertical-align: middle;\n",
       "    }\n",
       "\n",
       "    .dataframe tbody tr th {\n",
       "        vertical-align: top;\n",
       "    }\n",
       "\n",
       "    .dataframe thead th {\n",
       "        text-align: right;\n",
       "    }\n",
       "</style>\n",
       "<table border=\"1\" class=\"dataframe\">\n",
       "  <thead>\n",
       "    <tr style=\"text-align: right;\">\n",
       "      <th></th>\n",
       "      <th>RepFamily</th>\n",
       "      <th>EditingSites</th>\n",
       "    </tr>\n",
       "  </thead>\n",
       "  <tbody>\n",
       "    <tr>\n",
       "      <th>0</th>\n",
       "      <td>Alu</td>\n",
       "      <td>14346666</td>\n",
       "    </tr>\n",
       "    <tr>\n",
       "      <th>1</th>\n",
       "      <td>L1</td>\n",
       "      <td>481594</td>\n",
       "    </tr>\n",
       "    <tr>\n",
       "      <th>2</th>\n",
       "      <td>Repeat-free</td>\n",
       "      <td>463387</td>\n",
       "    </tr>\n",
       "    <tr>\n",
       "      <th>3</th>\n",
       "      <td>ERVL-MaLR</td>\n",
       "      <td>154362</td>\n",
       "    </tr>\n",
       "    <tr>\n",
       "      <th>4</th>\n",
       "      <td>ERV1</td>\n",
       "      <td>54129</td>\n",
       "    </tr>\n",
       "    <tr>\n",
       "      <th>5</th>\n",
       "      <td>TcMar-Tigger</td>\n",
       "      <td>32079</td>\n",
       "    </tr>\n",
       "    <tr>\n",
       "      <th>6</th>\n",
       "      <td>MIR</td>\n",
       "      <td>26293</td>\n",
       "    </tr>\n",
       "    <tr>\n",
       "      <th>7</th>\n",
       "      <td>Simple_repeat</td>\n",
       "      <td>23054</td>\n",
       "    </tr>\n",
       "    <tr>\n",
       "      <th>8</th>\n",
       "      <td>hAT-Charlie</td>\n",
       "      <td>22206</td>\n",
       "    </tr>\n",
       "    <tr>\n",
       "      <th>9</th>\n",
       "      <td>L2</td>\n",
       "      <td>21055</td>\n",
       "    </tr>\n",
       "    <tr>\n",
       "      <th>10</th>\n",
       "      <td>ERVL</td>\n",
       "      <td>17882</td>\n",
       "    </tr>\n",
       "    <tr>\n",
       "      <th>11</th>\n",
       "      <td>ERVK</td>\n",
       "      <td>6721</td>\n",
       "    </tr>\n",
       "    <tr>\n",
       "      <th>12</th>\n",
       "      <td>Satellite</td>\n",
       "      <td>5695</td>\n",
       "    </tr>\n",
       "    <tr>\n",
       "      <th>13</th>\n",
       "      <td>SVA</td>\n",
       "      <td>5669</td>\n",
       "    </tr>\n",
       "    <tr>\n",
       "      <th>14</th>\n",
       "      <td>hAT-Tip100</td>\n",
       "      <td>3446</td>\n",
       "    </tr>\n",
       "    <tr>\n",
       "      <th>15</th>\n",
       "      <td>snRNA</td>\n",
       "      <td>3025</td>\n",
       "    </tr>\n",
       "    <tr>\n",
       "      <th>16</th>\n",
       "      <td>CR1</td>\n",
       "      <td>2319</td>\n",
       "    </tr>\n",
       "    <tr>\n",
       "      <th>17</th>\n",
       "      <td>TcMar-Mariner</td>\n",
       "      <td>2217</td>\n",
       "    </tr>\n",
       "    <tr>\n",
       "      <th>18</th>\n",
       "      <td>centr</td>\n",
       "      <td>1776</td>\n",
       "    </tr>\n",
       "    <tr>\n",
       "      <th>19</th>\n",
       "      <td>hAT-Blackjack</td>\n",
       "      <td>1599</td>\n",
       "    </tr>\n",
       "    <tr>\n",
       "      <th>20</th>\n",
       "      <td>Low_complexity</td>\n",
       "      <td>1257</td>\n",
       "    </tr>\n",
       "    <tr>\n",
       "      <th>21</th>\n",
       "      <td>srpRNA</td>\n",
       "      <td>1206</td>\n",
       "    </tr>\n",
       "    <tr>\n",
       "      <th>22</th>\n",
       "      <td>scRNA</td>\n",
       "      <td>1033</td>\n",
       "    </tr>\n",
       "    <tr>\n",
       "      <th>23</th>\n",
       "      <td>RTE-X</td>\n",
       "      <td>821</td>\n",
       "    </tr>\n",
       "    <tr>\n",
       "      <th>24</th>\n",
       "      <td>Gypsy</td>\n",
       "      <td>645</td>\n",
       "    </tr>\n",
       "    <tr>\n",
       "      <th>25</th>\n",
       "      <td>MULE-MuDR</td>\n",
       "      <td>610</td>\n",
       "    </tr>\n",
       "    <tr>\n",
       "      <th>26</th>\n",
       "      <td>LTR</td>\n",
       "      <td>465</td>\n",
       "    </tr>\n",
       "    <tr>\n",
       "      <th>27</th>\n",
       "      <td>TcMar-Tc2</td>\n",
       "      <td>457</td>\n",
       "    </tr>\n",
       "    <tr>\n",
       "      <th>28</th>\n",
       "      <td>tRNA-RTE</td>\n",
       "      <td>314</td>\n",
       "    </tr>\n",
       "    <tr>\n",
       "      <th>29</th>\n",
       "      <td>RTE-BovB</td>\n",
       "      <td>269</td>\n",
       "    </tr>\n",
       "    <tr>\n",
       "      <th>30</th>\n",
       "      <td>rRNA</td>\n",
       "      <td>232</td>\n",
       "    </tr>\n",
       "    <tr>\n",
       "      <th>31</th>\n",
       "      <td>DNA</td>\n",
       "      <td>223</td>\n",
       "    </tr>\n",
       "    <tr>\n",
       "      <th>32</th>\n",
       "      <td>Helitron</td>\n",
       "      <td>214</td>\n",
       "    </tr>\n",
       "    <tr>\n",
       "      <th>33</th>\n",
       "      <td>tRNA</td>\n",
       "      <td>154</td>\n",
       "    </tr>\n",
       "    <tr>\n",
       "      <th>34</th>\n",
       "      <td>5S-Deu-L2</td>\n",
       "      <td>150</td>\n",
       "    </tr>\n",
       "    <tr>\n",
       "      <th>35</th>\n",
       "      <td>Unknown</td>\n",
       "      <td>135</td>\n",
       "    </tr>\n",
       "    <tr>\n",
       "      <th>36</th>\n",
       "      <td>hAT-Ac</td>\n",
       "      <td>120</td>\n",
       "    </tr>\n",
       "    <tr>\n",
       "      <th>37</th>\n",
       "      <td>PiggyBac</td>\n",
       "      <td>111</td>\n",
       "    </tr>\n",
       "    <tr>\n",
       "      <th>38</th>\n",
       "      <td>TcMar-Tc1</td>\n",
       "      <td>100</td>\n",
       "    </tr>\n",
       "    <tr>\n",
       "      <th>39</th>\n",
       "      <td>Merlin</td>\n",
       "      <td>83</td>\n",
       "    </tr>\n",
       "    <tr>\n",
       "      <th>40</th>\n",
       "      <td>Dong-R4</td>\n",
       "      <td>59</td>\n",
       "    </tr>\n",
       "    <tr>\n",
       "      <th>41</th>\n",
       "      <td>hAT</td>\n",
       "      <td>44</td>\n",
       "    </tr>\n",
       "    <tr>\n",
       "      <th>42</th>\n",
       "      <td>Kolobok</td>\n",
       "      <td>29</td>\n",
       "    </tr>\n",
       "    <tr>\n",
       "      <th>43</th>\n",
       "      <td>Penelope</td>\n",
       "      <td>11</td>\n",
       "    </tr>\n",
       "    <tr>\n",
       "      <th>44</th>\n",
       "      <td>tRNA-Deu</td>\n",
       "      <td>10</td>\n",
       "    </tr>\n",
       "    <tr>\n",
       "      <th>45</th>\n",
       "      <td>acro</td>\n",
       "      <td>9</td>\n",
       "    </tr>\n",
       "    <tr>\n",
       "      <th>46</th>\n",
       "      <td>Crypton</td>\n",
       "      <td>8</td>\n",
       "    </tr>\n",
       "    <tr>\n",
       "      <th>47</th>\n",
       "      <td>TcMar-Pogo</td>\n",
       "      <td>3</td>\n",
       "    </tr>\n",
       "    <tr>\n",
       "      <th>48</th>\n",
       "      <td>hAT-Tag1</td>\n",
       "      <td>1</td>\n",
       "    </tr>\n",
       "  </tbody>\n",
       "</table>\n",
       "</div>"
      ],
      "text/plain": [
       "         RepFamily  EditingSites\n",
       "0              Alu      14346666\n",
       "1               L1        481594\n",
       "2      Repeat-free        463387\n",
       "3        ERVL-MaLR        154362\n",
       "4             ERV1         54129\n",
       "5     TcMar-Tigger         32079\n",
       "6              MIR         26293\n",
       "7    Simple_repeat         23054\n",
       "8      hAT-Charlie         22206\n",
       "9               L2         21055\n",
       "10            ERVL         17882\n",
       "11            ERVK          6721\n",
       "12       Satellite          5695\n",
       "13             SVA          5669\n",
       "14      hAT-Tip100          3446\n",
       "15           snRNA          3025\n",
       "16             CR1          2319\n",
       "17   TcMar-Mariner          2217\n",
       "18           centr          1776\n",
       "19   hAT-Blackjack          1599\n",
       "20  Low_complexity          1257\n",
       "21          srpRNA          1206\n",
       "22           scRNA          1033\n",
       "23           RTE-X           821\n",
       "24           Gypsy           645\n",
       "25       MULE-MuDR           610\n",
       "26             LTR           465\n",
       "27       TcMar-Tc2           457\n",
       "28        tRNA-RTE           314\n",
       "29        RTE-BovB           269\n",
       "30            rRNA           232\n",
       "31             DNA           223\n",
       "32        Helitron           214\n",
       "33            tRNA           154\n",
       "34       5S-Deu-L2           150\n",
       "35         Unknown           135\n",
       "36          hAT-Ac           120\n",
       "37        PiggyBac           111\n",
       "38       TcMar-Tc1           100\n",
       "39          Merlin            83\n",
       "40         Dong-R4            59\n",
       "41             hAT            44\n",
       "42         Kolobok            29\n",
       "43        Penelope            11\n",
       "44        tRNA-Deu            10\n",
       "45            acro             9\n",
       "46         Crypton             8\n",
       "47      TcMar-Pogo             3\n",
       "48        hAT-Tag1             1"
      ]
     },
     "execution_count": 43,
     "metadata": {},
     "output_type": "execute_result"
    }
   ],
   "source": [
    "edits"
   ]
  },
  {
   "cell_type": "code",
   "execution_count": 44,
   "id": "31901d32-ec0e-49b0-ad8f-de69c0bd240d",
   "metadata": {},
   "outputs": [],
   "source": [
    "sub_edits = group_rarely_edited_repeats(edits)"
   ]
  },
  {
   "cell_type": "code",
   "execution_count": 45,
   "id": "50b0e590-7230-44e0-960a-9951a6f7d2c3",
   "metadata": {},
   "outputs": [
    {
     "data": {
      "text/html": [
       "<div>\n",
       "<style scoped>\n",
       "    .dataframe tbody tr th:only-of-type {\n",
       "        vertical-align: middle;\n",
       "    }\n",
       "\n",
       "    .dataframe tbody tr th {\n",
       "        vertical-align: top;\n",
       "    }\n",
       "\n",
       "    .dataframe thead th {\n",
       "        text-align: right;\n",
       "    }\n",
       "</style>\n",
       "<table border=\"1\" class=\"dataframe\">\n",
       "  <thead>\n",
       "    <tr style=\"text-align: right;\">\n",
       "      <th></th>\n",
       "      <th>RepFamily</th>\n",
       "      <th>EditingSites</th>\n",
       "    </tr>\n",
       "  </thead>\n",
       "  <tbody>\n",
       "    <tr>\n",
       "      <th>0</th>\n",
       "      <td>Alu</td>\n",
       "      <td>14346666</td>\n",
       "    </tr>\n",
       "    <tr>\n",
       "      <th>1</th>\n",
       "      <td>L1</td>\n",
       "      <td>481594</td>\n",
       "    </tr>\n",
       "    <tr>\n",
       "      <th>2</th>\n",
       "      <td>Repeat-free</td>\n",
       "      <td>463387</td>\n",
       "    </tr>\n",
       "    <tr>\n",
       "      <th>3</th>\n",
       "      <td>ERVL-MaLR</td>\n",
       "      <td>154362</td>\n",
       "    </tr>\n",
       "    <tr>\n",
       "      <th>4</th>\n",
       "      <td>ERV1</td>\n",
       "      <td>54129</td>\n",
       "    </tr>\n",
       "    <tr>\n",
       "      <th>5</th>\n",
       "      <td>TcMar-Tigger</td>\n",
       "      <td>32079</td>\n",
       "    </tr>\n",
       "    <tr>\n",
       "      <th>6</th>\n",
       "      <td>MIR</td>\n",
       "      <td>26293</td>\n",
       "    </tr>\n",
       "    <tr>\n",
       "      <th>7</th>\n",
       "      <td>Simple_repeat</td>\n",
       "      <td>23054</td>\n",
       "    </tr>\n",
       "    <tr>\n",
       "      <th>8</th>\n",
       "      <td>hAT-Charlie</td>\n",
       "      <td>22206</td>\n",
       "    </tr>\n",
       "    <tr>\n",
       "      <th>9</th>\n",
       "      <td>Other repeats</td>\n",
       "      <td>80177</td>\n",
       "    </tr>\n",
       "  </tbody>\n",
       "</table>\n",
       "</div>"
      ],
      "text/plain": [
       "       RepFamily  EditingSites\n",
       "0            Alu      14346666\n",
       "1             L1        481594\n",
       "2    Repeat-free        463387\n",
       "3      ERVL-MaLR        154362\n",
       "4           ERV1         54129\n",
       "5   TcMar-Tigger         32079\n",
       "6            MIR         26293\n",
       "7  Simple_repeat         23054\n",
       "8    hAT-Charlie         22206\n",
       "9  Other repeats         80177"
      ]
     },
     "execution_count": 45,
     "metadata": {},
     "output_type": "execute_result"
    }
   ],
   "source": [
    "sub_edits[0]"
   ]
  },
  {
   "cell_type": "code",
   "execution_count": 37,
   "id": "e77c3670-52a6-4119-8e8e-9529174be072",
   "metadata": {},
   "outputs": [],
   "source": [
    "with open(f'{path2}/real_edits_by_Rep_Family.pickle', 'wb') as f:\n",
    "    pickle.dump(sub_edits[0], f)"
   ]
  },
  {
   "cell_type": "code",
   "execution_count": 46,
   "id": "002b52c0-016e-4b47-859a-d65fc0bbfd55",
   "metadata": {},
   "outputs": [],
   "source": [
    "sub_edits[0].rename(columns={'RepFamily':'Repeat family', 'EditingSites':'Number of editing sites'}, inplace=True)"
   ]
  },
  {
   "cell_type": "code",
   "execution_count": 58,
   "id": "27e66486-67cc-441e-9a83-7cba794c177a",
   "metadata": {},
   "outputs": [
    {
     "data": {
      "image/png": "[encoded data removed]",
      "text/plain": [
       "<Figure size 1800x900 with 1 Axes>"
      ]
     },
     "metadata": {},
     "output_type": "display_data"
    }
   ],
   "source": [
    "sns.set(rc={'figure.figsize':(16,8)}, font_scale = 1.3)\n",
    "fig, ax = plt.subplots(figsize=(18, 9))\n",
    "sns.barplot(x=\"Repeat family\", y=\"Number of editing sites\", data=sub_edits[0], palette='muted', order=sub_edits[0]['Repeat family'], ax=ax)\n",
    "ax.set_yscale(\"log\")\n",
    "ax.set_title('Распределение сайтов редактирования',fontsize=30, pad=15)\n",
    "ax.set_ylabel(\"Число сайтов редактирования\",fontsize=16, labelpad=15)\n",
    "ax.set_xlabel(\"Семейство повторов\",fontsize=18, labelpad=15)\n",
    "fig.savefig(f\"{path}/images/Распределение сайтов редактирования по семействам повторов.jpg\")"
   ]
  },
  {
   "cell_type": "markdown",
   "id": "4073f9bf-3b6a-4ce2-8549-1fdf94f8954f",
   "metadata": {},
   "source": [
    "sns.set(rc={'figure.figsize':(20,12)}, font_scale = 1.3)\n",
    "ax = sns.barplot(x=\"Repeat family\", y=\"Number of editing sites\", data=sub_edits[0], palette='muted', order=sub_edits[0]['Repeat family'])\n",
    "ax.set_yscale(\"log\")\n",
    "ax.set_title('Distribution of editing sites by repeat family',fontsize=30)\n",
    "ax.set_ylabel(\"Number of editing sites\",fontsize=15)\n",
    "ax.set_xlabel(\"Repeat family\",fontsize=15)\n",
    "fig = ax.get_figure()\n",
    "fig.savefig(f\"{path}/Distribution_of_esites_by_RepFamily.jpg\")"
   ]
  },
  {
   "cell_type": "markdown",
   "id": "5ed8750a-48e2-40a9-a85a-8abb3808c97b",
   "metadata": {},
   "source": [
    "# Теперь рассмотрим лишь сайты редактирования в генах"
   ]
  },
  {
   "cell_type": "code",
   "execution_count": 86,
   "id": "ac80fb50-9bdc-4332-b574-c30ef4d2d89c",
   "metadata": {},
   "outputs": [
    {
     "name": "stdout",
     "output_type": "stream",
     "text": [
      "chr1\t87158\t87159\n",
      " chr1\t87168\t87169\n",
      " chr1\t87171\t87172\n",
      " chr1\t87189\t87190\n",
      " chr1\t87218\t87219\n",
      " "
     ]
    }
   ],
   "source": [
    "esites = pybedtools.BedTool(f\"{path}/esites_filt.bed.gz\")\n",
    "esites.head(5)"
   ]
  },
  {
   "cell_type": "code",
   "execution_count": 87,
   "id": "0a65ccf3-ee7b-42f2-aab1-e481e86d03e5",
   "metadata": {},
   "outputs": [
    {
     "name": "stdout",
     "output_type": "stream",
     "text": [
      "chr1\t11868\t14409\t+\n",
      " chr1\t14403\t29570\t-\n",
      " chr1\t29553\t31109\t+\n",
      " chr1\t34553\t36081\t-\n",
      " chr1\t52472\t53312\t+\n",
      " "
     ]
    }
   ],
   "source": [
    "genes = pybedtools.BedTool(f\"{path}/genes_by_chrom.bed\")\n",
    "genes.head(5)"
   ]
  },
  {
   "cell_type": "code",
   "execution_count": 91,
   "id": "cab1ee1f-5c0b-49b1-962a-7abac6885dad",
   "metadata": {},
   "outputs": [
    {
     "data": {
      "text/plain": [
       "49752"
      ]
     },
     "execution_count": 91,
     "metadata": {},
     "output_type": "execute_result"
    }
   ],
   "source": [
    "len(genes)"
   ]
  },
  {
   "cell_type": "code",
   "execution_count": 88,
   "id": "18c916f9-2df2-4eb8-836a-bdf97bd26eb2",
   "metadata": {},
   "outputs": [],
   "source": [
    "esites_in_genes = genes.intersect(esites)"
   ]
  },
  {
   "cell_type": "code",
   "execution_count": 89,
   "id": "9bb38b3f-354f-4368-bd67-6c74f759335e",
   "metadata": {},
   "outputs": [
    {
     "name": "stdout",
     "output_type": "stream",
     "text": [
      "chr1\t90937\t90938\t-\n",
      " chr1\t90946\t90947\t-\n",
      " chr1\t90958\t90959\t-\n",
      " chr1\t90959\t90960\t-\n",
      " chr1\t91035\t91036\t-\n",
      " "
     ]
    }
   ],
   "source": [
    "esites_in_genes.head(5)"
   ]
  },
  {
   "cell_type": "code",
   "execution_count": 62,
   "id": "401acbd3-9788-4a62-9f7b-940777febe63",
   "metadata": {},
   "outputs": [
    {
     "data": {
      "text/plain": [
       "14462126"
      ]
     },
     "execution_count": 62,
     "metadata": {},
     "output_type": "execute_result"
    }
   ],
   "source": [
    "len(esites_in_genes)"
   ]
  },
  {
   "cell_type": "code",
   "execution_count": 92,
   "id": "8cc0ed9f-d78e-4e03-aecf-190eb86b3808",
   "metadata": {},
   "outputs": [
    {
     "name": "stderr",
     "output_type": "stream",
     "text": [
      "/tmp/ipykernel_6785/776909453.py:1: ParserWarning: Length of header or names does not match length of data. This leads to a loss of data with index_col=False.\n",
      "  df_esites_in_genes = pd.read_table(esites_in_genes.fn, names=['chrom', 'start', 'stop'], index_col=False)\n"
     ]
    },
    {
     "data": {
      "text/html": [
       "<div>\n",
       "<style scoped>\n",
       "    .dataframe tbody tr th:only-of-type {\n",
       "        vertical-align: middle;\n",
       "    }\n",
       "\n",
       "    .dataframe tbody tr th {\n",
       "        vertical-align: top;\n",
       "    }\n",
       "\n",
       "    .dataframe thead th {\n",
       "        text-align: right;\n",
       "    }\n",
       "</style>\n",
       "<table border=\"1\" class=\"dataframe\">\n",
       "  <thead>\n",
       "    <tr style=\"text-align: right;\">\n",
       "      <th></th>\n",
       "      <th>chrom</th>\n",
       "      <th>start</th>\n",
       "      <th>stop</th>\n",
       "    </tr>\n",
       "  </thead>\n",
       "  <tbody>\n",
       "    <tr>\n",
       "      <th>0</th>\n",
       "      <td>chr1</td>\n",
       "      <td>90937</td>\n",
       "      <td>90938</td>\n",
       "    </tr>\n",
       "    <tr>\n",
       "      <th>1</th>\n",
       "      <td>chr1</td>\n",
       "      <td>90946</td>\n",
       "      <td>90947</td>\n",
       "    </tr>\n",
       "    <tr>\n",
       "      <th>2</th>\n",
       "      <td>chr1</td>\n",
       "      <td>90958</td>\n",
       "      <td>90959</td>\n",
       "    </tr>\n",
       "    <tr>\n",
       "      <th>3</th>\n",
       "      <td>chr1</td>\n",
       "      <td>90959</td>\n",
       "      <td>90960</td>\n",
       "    </tr>\n",
       "    <tr>\n",
       "      <th>4</th>\n",
       "      <td>chr1</td>\n",
       "      <td>91035</td>\n",
       "      <td>91036</td>\n",
       "    </tr>\n",
       "    <tr>\n",
       "      <th>...</th>\n",
       "      <td>...</td>\n",
       "      <td>...</td>\n",
       "      <td>...</td>\n",
       "    </tr>\n",
       "    <tr>\n",
       "      <th>14462121</th>\n",
       "      <td>chr22</td>\n",
       "      <td>50781162</td>\n",
       "      <td>50781163</td>\n",
       "    </tr>\n",
       "    <tr>\n",
       "      <th>14462122</th>\n",
       "      <td>chr22</td>\n",
       "      <td>50781183</td>\n",
       "      <td>50781184</td>\n",
       "    </tr>\n",
       "    <tr>\n",
       "      <th>14462123</th>\n",
       "      <td>chr22</td>\n",
       "      <td>50781232</td>\n",
       "      <td>50781233</td>\n",
       "    </tr>\n",
       "    <tr>\n",
       "      <th>14462124</th>\n",
       "      <td>chr22</td>\n",
       "      <td>50781294</td>\n",
       "      <td>50781295</td>\n",
       "    </tr>\n",
       "    <tr>\n",
       "      <th>14462125</th>\n",
       "      <td>chr22</td>\n",
       "      <td>50781302</td>\n",
       "      <td>50781303</td>\n",
       "    </tr>\n",
       "  </tbody>\n",
       "</table>\n",
       "<p>14462126 rows × 3 columns</p>\n",
       "</div>"
      ],
      "text/plain": [
       "          chrom     start      stop\n",
       "0          chr1     90937     90938\n",
       "1          chr1     90946     90947\n",
       "2          chr1     90958     90959\n",
       "3          chr1     90959     90960\n",
       "4          chr1     91035     91036\n",
       "...         ...       ...       ...\n",
       "14462121  chr22  50781162  50781163\n",
       "14462122  chr22  50781183  50781184\n",
       "14462123  chr22  50781232  50781233\n",
       "14462124  chr22  50781294  50781295\n",
       "14462125  chr22  50781302  50781303\n",
       "\n",
       "[14462126 rows x 3 columns]"
      ]
     },
     "execution_count": 92,
     "metadata": {},
     "output_type": "execute_result"
    }
   ],
   "source": [
    "df_esites_in_genes = pd.read_table(esites_in_genes.fn, names=['chrom', 'start', 'stop'], index_col=False)\n",
    "df_esites_in_genes"
   ]
  },
  {
   "cell_type": "code",
   "execution_count": 93,
   "id": "03f1cd0a-36d0-4676-a854-11a5fb7fc202",
   "metadata": {},
   "outputs": [
    {
     "data": {
      "text/plain": [
       "(14462126, 3)"
      ]
     },
     "execution_count": 93,
     "metadata": {},
     "output_type": "execute_result"
    }
   ],
   "source": [
    "df_esites_in_genes.shape"
   ]
  },
  {
   "cell_type": "code",
   "execution_count": 94,
   "id": "89563bdf-cf7c-463d-8230-78d3a405742d",
   "metadata": {},
   "outputs": [],
   "source": [
    "df_esites_in_genes.to_csv(f'{path}/esites_filt_in_genes.bed.gz', sep='\\t',\n",
    "                 header=None,\n",
    "                 index=False,\n",
    "                 compression='gzip'\n",
    "                 )"
   ]
  },
  {
   "cell_type": "code",
   "execution_count": 95,
   "id": "3436ec26-1e9c-4c0d-8297-b8b61aefa3f2",
   "metadata": {},
   "outputs": [],
   "source": [
    "esites_in_genes = pybedtools.BedTool(f\"{path}/esites_filt_in_genes.bed.gz\")"
   ]
  },
  {
   "cell_type": "code",
   "execution_count": 96,
   "id": "2439632e-f7a8-4851-b5ca-1458daefe06f",
   "metadata": {},
   "outputs": [
    {
     "name": "stdout",
     "output_type": "stream",
     "text": [
      "chr1\t90937\t90938\n",
      " chr1\t90946\t90947\n",
      " chr1\t90958\t90959\n",
      " chr1\t90959\t90960\n",
      " chr1\t91035\t91036\n",
      " "
     ]
    }
   ],
   "source": [
    "esites_in_genes.head(5)"
   ]
  },
  {
   "cell_type": "code",
   "execution_count": 97,
   "id": "ee722a85-b4b8-461a-8008-bd2e8a58024b",
   "metadata": {},
   "outputs": [
    {
     "data": {
      "text/plain": [
       "14462126"
      ]
     },
     "execution_count": 97,
     "metadata": {},
     "output_type": "execute_result"
    }
   ],
   "source": [
    "len(esites_in_genes)"
   ]
  },
  {
   "cell_type": "code",
   "execution_count": 98,
   "id": "e571e34e-5154-48c9-a26e-eb79866a2ae8",
   "metadata": {},
   "outputs": [],
   "source": [
    "edits_in_genes = count_esites_in_repeats(esites=f\"{path}/esites_filt_in_genes.bed.gz\",\n",
    "                       repeats=f\"{path2}/repeats_by_family.bed.gz\")"
   ]
  },
  {
   "cell_type": "code",
   "execution_count": 99,
   "id": "91610e41-0e51-44b1-a3ff-ee8e7551c79d",
   "metadata": {},
   "outputs": [],
   "source": [
    "sub_edits_in_genes = group_rarely_edited_repeats(edits_in_genes)"
   ]
  },
  {
   "cell_type": "code",
   "execution_count": 100,
   "id": "6ad0572c-7802-4bff-a59b-99773ea13574",
   "metadata": {},
   "outputs": [
    {
     "data": {
      "text/html": [
       "<div>\n",
       "<style scoped>\n",
       "    .dataframe tbody tr th:only-of-type {\n",
       "        vertical-align: middle;\n",
       "    }\n",
       "\n",
       "    .dataframe tbody tr th {\n",
       "        vertical-align: top;\n",
       "    }\n",
       "\n",
       "    .dataframe thead th {\n",
       "        text-align: right;\n",
       "    }\n",
       "</style>\n",
       "<table border=\"1\" class=\"dataframe\">\n",
       "  <thead>\n",
       "    <tr style=\"text-align: right;\">\n",
       "      <th></th>\n",
       "      <th>RepFamily</th>\n",
       "      <th>EditingSites</th>\n",
       "    </tr>\n",
       "  </thead>\n",
       "  <tbody>\n",
       "    <tr>\n",
       "      <th>0</th>\n",
       "      <td>Alu</td>\n",
       "      <td>13256775</td>\n",
       "    </tr>\n",
       "    <tr>\n",
       "      <th>1</th>\n",
       "      <td>Repeat-free</td>\n",
       "      <td>485202</td>\n",
       "    </tr>\n",
       "    <tr>\n",
       "      <th>2</th>\n",
       "      <td>L1</td>\n",
       "      <td>395257</td>\n",
       "    </tr>\n",
       "    <tr>\n",
       "      <th>3</th>\n",
       "      <td>ERVL-MaLR</td>\n",
       "      <td>121261</td>\n",
       "    </tr>\n",
       "    <tr>\n",
       "      <th>4</th>\n",
       "      <td>ERV1</td>\n",
       "      <td>36858</td>\n",
       "    </tr>\n",
       "    <tr>\n",
       "      <th>5</th>\n",
       "      <td>TcMar-Tigger</td>\n",
       "      <td>30835</td>\n",
       "    </tr>\n",
       "    <tr>\n",
       "      <th>6</th>\n",
       "      <td>MIR</td>\n",
       "      <td>25562</td>\n",
       "    </tr>\n",
       "    <tr>\n",
       "      <th>7</th>\n",
       "      <td>hAT-Charlie</td>\n",
       "      <td>21921</td>\n",
       "    </tr>\n",
       "    <tr>\n",
       "      <th>8</th>\n",
       "      <td>Simple_repeat</td>\n",
       "      <td>21263</td>\n",
       "    </tr>\n",
       "    <tr>\n",
       "      <th>9</th>\n",
       "      <td>Other repeats</td>\n",
       "      <td>70887</td>\n",
       "    </tr>\n",
       "  </tbody>\n",
       "</table>\n",
       "</div>"
      ],
      "text/plain": [
       "       RepFamily  EditingSites\n",
       "0            Alu      13256775\n",
       "1    Repeat-free        485202\n",
       "2             L1        395257\n",
       "3      ERVL-MaLR        121261\n",
       "4           ERV1         36858\n",
       "5   TcMar-Tigger         30835\n",
       "6            MIR         25562\n",
       "7    hAT-Charlie         21921\n",
       "8  Simple_repeat         21263\n",
       "9  Other repeats         70887"
      ]
     },
     "execution_count": 100,
     "metadata": {},
     "output_type": "execute_result"
    }
   ],
   "source": [
    "sub_edits_in_genes[0]"
   ]
  },
  {
   "cell_type": "code",
   "execution_count": 105,
   "id": "e892cdb8-38e4-4dcc-a692-6a160bbe114a",
   "metadata": {},
   "outputs": [],
   "source": [
    "sub_edits_in_genes[0].rename(columns={'RepFamily':'Repeat family', 'EditingSites':'Number of editing sites'}, inplace=True)"
   ]
  },
  {
   "cell_type": "code",
   "execution_count": 106,
   "id": "19587c54-217d-438e-b453-42b8b20cd37a",
   "metadata": {},
   "outputs": [],
   "source": [
    "with open(f'{path2}/real_edits_by_Rep_Family_in_genes.pickle', 'wb') as f:\n",
    "    pickle.dump(sub_edits_in_genes[0], f)"
   ]
  },
  {
   "cell_type": "code",
   "execution_count": 107,
   "id": "3b53bbf5-3703-4ab1-a8f0-b2cbc838a7d4",
   "metadata": {},
   "outputs": [
    {
     "data": {
      "image/png": "[encoded data removed]",
      "text/plain": [
       "<Figure size 1440x720 with 1 Axes>"
      ]
     },
     "metadata": {},
     "output_type": "display_data"
    }
   ],
   "source": [
    "fig, ax = plt.subplots(figsize=(20, 10))\n",
    "sns.barplot(x=\"Repeat family\", y=\"Number of editing sites\", data=sub_edits_in_genes[0], palette='muted', order=sub_edits_in_genes[0]['Repeat family'], ax=ax)\n",
    "ax.set_yscale(\"log\")\n",
    "ax.set_title('Distribution of editing sites by repeat family (in genes)',fontsize=30, pad=30)\n",
    "ax.set_ylabel(\"Number of editing sites\",fontsize=16, labelpad=20)\n",
    "ax.set_xlabel(\"Repeat family\",fontsize=20, labelpad=30)\n",
    "fig.savefig(f\"{path}/Distribution_of_esites_by_RepFamily_in_genes.jpg\")"
   ]
  },
  {
   "cell_type": "code",
   "execution_count": null,
   "id": "4241362a-7f8b-4c3f-8fec-256b9419a0d1",
   "metadata": {},
   "outputs": [],
   "source": []
  }
 ],
 "metadata": {
  "kernelspec": {
   "display_name": "Python 3 (ipykernel)",
   "language": "python",
   "name": "python3"
  },
  "language_info": {
   "codemirror_mode": {
    "name": "ipython",
    "version": 3
   },
   "file_extension": ".py",
   "mimetype": "text/x-python",
   "name": "python",
   "nbconvert_exporter": "python",
   "pygments_lexer": "ipython3",
   "version": "3.9.12"
  }
 },
 "nbformat": 4,
 "nbformat_minor": 5
}
